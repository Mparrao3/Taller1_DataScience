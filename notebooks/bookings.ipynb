{
 "cells": [
  {
   "cell_type": "markdown",
   "id": "50351f3e",
   "metadata": {},
   "source": [
    "# TALLER 1 - CIENCIA DE DATOS APLICADA\n",
    "\n",
    "El objetivo de este taller es evaluar las capacidades del estudiante para realizar análisis de\n",
    "datos utilizando técnicas estadísticas y de visualización, que le permitan entender un\n",
    "conjunto de datos, descubrir insights y sugerir accionables al negocio\n"
   ]
  },
  {
   "cell_type": "markdown",
   "id": "429da766",
   "metadata": {},
   "source": [
    "## Contexto de negocio\n",
    "\n",
    "La industria hotelera enfrenta grandes retos para optimizar la ocupación y reducir las cancelaciones de reservas, especialmente en un entorno de alta competencia y variabilidad en la demanda. Este análisis busca explorar el dataset de reservas hoteleras con el fin de comprender patrones de comportamiento en los clientes, descubrir factores que influyen en la duración de la estadía y en la probabilidad de cancelación, y finalmente proponer estrategias basadas en datos que apoyen la toma de decisiones para mejorar la rentabilidad y eficiencia de la cadena hotelera.\n"
   ]
  },
  {
   "cell_type": "code",
   "execution_count": null,
   "id": "be09563f",
   "metadata": {},
   "outputs": [],
   "source": [
    "# Librerias \n",
    "import pandas as pd\n",
    "import numpy as np\n",
    "import matplotlib.pyplot as plt\n",
    "import seaborn as sns\n",
    "\n",
    "plt.style.use(\"seaborn-v0_8\")\n",
    "sns.set_palette(\"muted\")"
   ]
  },
  {
   "cell_type": "code",
   "execution_count": 7,
   "id": "ed6f26bf",
   "metadata": {},
   "outputs": [
    {
     "name": "stderr",
     "output_type": "stream",
     "text": [
      "C:\\Users\\wired\\AppData\\Local\\Temp\\ipykernel_25516\\3026260986.py:2: DtypeWarning: Columns (24) have mixed types. Specify dtype option on import or set low_memory=False.\n",
      "  df = pd.read_csv(\"C:/Users/wired/Downloads/Taller1_DataScience/data/hotel_bookings_modified.csv\")\n"
     ]
    }
   ],
   "source": [
    "# Datos\n",
    "df = pd.read_csv(\"C:/Users/wired/Downloads/Taller1_DataScience/data/hotel_bookings_modified.csv\")"
   ]
  },
  {
   "cell_type": "markdown",
   "id": "82cca7e7",
   "metadata": {},
   "source": [
    "# Entendimiento de Datos"
   ]
  },
  {
   "cell_type": "code",
   "execution_count": 8,
   "id": "ffa90bb3",
   "metadata": {},
   "outputs": [
    {
     "name": "stdout",
     "output_type": "stream",
     "text": [
      "Dimensiones del dataset: (58895, 33)\n"
     ]
    },
    {
     "data": {
      "text/html": [
       "<div>\n",
       "<style scoped>\n",
       "    .dataframe tbody tr th:only-of-type {\n",
       "        vertical-align: middle;\n",
       "    }\n",
       "\n",
       "    .dataframe tbody tr th {\n",
       "        vertical-align: top;\n",
       "    }\n",
       "\n",
       "    .dataframe thead th {\n",
       "        text-align: right;\n",
       "    }\n",
       "</style>\n",
       "<table border=\"1\" class=\"dataframe\">\n",
       "  <thead>\n",
       "    <tr style=\"text-align: right;\">\n",
       "      <th></th>\n",
       "      <th>hotel</th>\n",
       "      <th>is_canceled</th>\n",
       "      <th>lead_time</th>\n",
       "      <th>arrival_date_year</th>\n",
       "      <th>arrival_date_month</th>\n",
       "      <th>arrival_date_week_number</th>\n",
       "      <th>arrival_date_day_of_month</th>\n",
       "      <th>stays_in_weekend_nights</th>\n",
       "      <th>stays_in_week_nights</th>\n",
       "      <th>adults</th>\n",
       "      <th>...</th>\n",
       "      <th>agent</th>\n",
       "      <th>company</th>\n",
       "      <th>days_in_waiting_list</th>\n",
       "      <th>customer_type</th>\n",
       "      <th>adr</th>\n",
       "      <th>required_car_parking_spaces</th>\n",
       "      <th>total_of_special_requests</th>\n",
       "      <th>reservation_status</th>\n",
       "      <th>reservation_status_date</th>\n",
       "      <th>kids</th>\n",
       "    </tr>\n",
       "  </thead>\n",
       "  <tbody>\n",
       "    <tr>\n",
       "      <th>0</th>\n",
       "      <td>Resort Hotel</td>\n",
       "      <td>0</td>\n",
       "      <td>342</td>\n",
       "      <td>2015.0</td>\n",
       "      <td>July</td>\n",
       "      <td>27</td>\n",
       "      <td>1</td>\n",
       "      <td>0</td>\n",
       "      <td>0</td>\n",
       "      <td>2</td>\n",
       "      <td>...</td>\n",
       "      <td>NaN</td>\n",
       "      <td>NaN</td>\n",
       "      <td>0.0</td>\n",
       "      <td>Transient</td>\n",
       "      <td>0.0</td>\n",
       "      <td>0.0</td>\n",
       "      <td>0.0</td>\n",
       "      <td>Check-Out</td>\n",
       "      <td>2015-07-01</td>\n",
       "      <td>NaN</td>\n",
       "    </tr>\n",
       "    <tr>\n",
       "      <th>1</th>\n",
       "      <td>Resort Hotel</td>\n",
       "      <td>0</td>\n",
       "      <td>737</td>\n",
       "      <td>2015.0</td>\n",
       "      <td>July</td>\n",
       "      <td>27</td>\n",
       "      <td>1</td>\n",
       "      <td>0</td>\n",
       "      <td>0</td>\n",
       "      <td>2</td>\n",
       "      <td>...</td>\n",
       "      <td>NaN</td>\n",
       "      <td>NaN</td>\n",
       "      <td>0.0</td>\n",
       "      <td>Transient</td>\n",
       "      <td>0.0</td>\n",
       "      <td>0.0</td>\n",
       "      <td>0.0</td>\n",
       "      <td>Check-Out</td>\n",
       "      <td>2015-07-01</td>\n",
       "      <td>NaN</td>\n",
       "    </tr>\n",
       "    <tr>\n",
       "      <th>2</th>\n",
       "      <td>Resort Hotel</td>\n",
       "      <td>0</td>\n",
       "      <td>7</td>\n",
       "      <td>2015.0</td>\n",
       "      <td>July</td>\n",
       "      <td>27</td>\n",
       "      <td>1</td>\n",
       "      <td>0</td>\n",
       "      <td>1</td>\n",
       "      <td>1</td>\n",
       "      <td>...</td>\n",
       "      <td>NaN</td>\n",
       "      <td>NaN</td>\n",
       "      <td>0.0</td>\n",
       "      <td>Transient</td>\n",
       "      <td>75.0</td>\n",
       "      <td>0.0</td>\n",
       "      <td>0.0</td>\n",
       "      <td>Check-Out</td>\n",
       "      <td>2015-07-02</td>\n",
       "      <td>NaN</td>\n",
       "    </tr>\n",
       "    <tr>\n",
       "      <th>3</th>\n",
       "      <td>Resort Hotel</td>\n",
       "      <td>0</td>\n",
       "      <td>13</td>\n",
       "      <td>2015.0</td>\n",
       "      <td>July</td>\n",
       "      <td>27</td>\n",
       "      <td>1</td>\n",
       "      <td>0</td>\n",
       "      <td>1</td>\n",
       "      <td>1</td>\n",
       "      <td>...</td>\n",
       "      <td>304.0</td>\n",
       "      <td>NaN</td>\n",
       "      <td>0.0</td>\n",
       "      <td>Transient</td>\n",
       "      <td>75.0</td>\n",
       "      <td>0.0</td>\n",
       "      <td>0.0</td>\n",
       "      <td>Check-Out</td>\n",
       "      <td>2015-07-02</td>\n",
       "      <td>NaN</td>\n",
       "    </tr>\n",
       "    <tr>\n",
       "      <th>4</th>\n",
       "      <td>Resort Hotel</td>\n",
       "      <td>0</td>\n",
       "      <td>14</td>\n",
       "      <td>2015.0</td>\n",
       "      <td>July</td>\n",
       "      <td>27</td>\n",
       "      <td>1</td>\n",
       "      <td>0</td>\n",
       "      <td>2</td>\n",
       "      <td>2</td>\n",
       "      <td>...</td>\n",
       "      <td>240.0</td>\n",
       "      <td>NaN</td>\n",
       "      <td>0.0</td>\n",
       "      <td>Transient</td>\n",
       "      <td>98.0</td>\n",
       "      <td>0.0</td>\n",
       "      <td>1.0</td>\n",
       "      <td>Check-Out</td>\n",
       "      <td>2015-07-03</td>\n",
       "      <td>NaN</td>\n",
       "    </tr>\n",
       "  </tbody>\n",
       "</table>\n",
       "<p>5 rows × 33 columns</p>\n",
       "</div>"
      ],
      "text/plain": [
       "          hotel  is_canceled  lead_time  arrival_date_year arrival_date_month  \\\n",
       "0  Resort Hotel            0        342             2015.0               July   \n",
       "1  Resort Hotel            0        737             2015.0               July   \n",
       "2  Resort Hotel            0          7             2015.0               July   \n",
       "3  Resort Hotel            0         13             2015.0               July   \n",
       "4  Resort Hotel            0         14             2015.0               July   \n",
       "\n",
       "   arrival_date_week_number  arrival_date_day_of_month  \\\n",
       "0                        27                          1   \n",
       "1                        27                          1   \n",
       "2                        27                          1   \n",
       "3                        27                          1   \n",
       "4                        27                          1   \n",
       "\n",
       "   stays_in_weekend_nights  stays_in_week_nights  adults  ...  agent  company  \\\n",
       "0                        0                     0       2  ...    NaN      NaN   \n",
       "1                        0                     0       2  ...    NaN      NaN   \n",
       "2                        0                     1       1  ...    NaN      NaN   \n",
       "3                        0                     1       1  ...  304.0      NaN   \n",
       "4                        0                     2       2  ...  240.0      NaN   \n",
       "\n",
       "  days_in_waiting_list customer_type   adr required_car_parking_spaces  \\\n",
       "0                  0.0     Transient   0.0                         0.0   \n",
       "1                  0.0     Transient   0.0                         0.0   \n",
       "2                  0.0     Transient  75.0                         0.0   \n",
       "3                  0.0     Transient  75.0                         0.0   \n",
       "4                  0.0     Transient  98.0                         0.0   \n",
       "\n",
       "   total_of_special_requests  reservation_status  reservation_status_date kids  \n",
       "0                        0.0           Check-Out               2015-07-01  NaN  \n",
       "1                        0.0           Check-Out               2015-07-01  NaN  \n",
       "2                        0.0           Check-Out               2015-07-02  NaN  \n",
       "3                        0.0           Check-Out               2015-07-02  NaN  \n",
       "4                        1.0           Check-Out               2015-07-03  NaN  \n",
       "\n",
       "[5 rows x 33 columns]"
      ]
     },
     "execution_count": 8,
     "metadata": {},
     "output_type": "execute_result"
    }
   ],
   "source": [
    "# Dimensiones y primeras filas\n",
    "print(\"Dimensiones del dataset:\", df.shape)\n",
    "df.head()"
   ]
  },
  {
   "cell_type": "code",
   "execution_count": 9,
   "id": "ab318fef",
   "metadata": {},
   "outputs": [
    {
     "name": "stdout",
     "output_type": "stream",
     "text": [
      "<class 'pandas.core.frame.DataFrame'>\n",
      "RangeIndex: 58895 entries, 0 to 58894\n",
      "Data columns (total 33 columns):\n",
      " #   Column                          Non-Null Count  Dtype  \n",
      "---  ------                          --------------  -----  \n",
      " 0   hotel                           58895 non-null  object \n",
      " 1   is_canceled                     58895 non-null  int64  \n",
      " 2   lead_time                       58895 non-null  int64  \n",
      " 3   arrival_date_year               58307 non-null  float64\n",
      " 4   arrival_date_month              58895 non-null  object \n",
      " 5   arrival_date_week_number        58895 non-null  int64  \n",
      " 6   arrival_date_day_of_month       58895 non-null  int64  \n",
      " 7   stays_in_weekend_nights         58895 non-null  int64  \n",
      " 8   stays_in_week_nights            58895 non-null  int64  \n",
      " 9   adults                          58895 non-null  int64  \n",
      " 10  children                        58891 non-null  float64\n",
      " 11  babies                          58895 non-null  int64  \n",
      " 12  meal                            58895 non-null  object \n",
      " 13  country                         58417 non-null  object \n",
      " 14  market_segment                  58895 non-null  object \n",
      " 15  distribution_channel            58895 non-null  object \n",
      " 16  is_repeated_guest               58895 non-null  int64  \n",
      " 17  previous_cancellations          58895 non-null  int64  \n",
      " 18  previous_bookings_not_canceled  58895 non-null  int64  \n",
      " 19  reserved_room_type              58895 non-null  object \n",
      " 20  assigned_room_type              58895 non-null  object \n",
      " 21  booking_changes                 58895 non-null  int64  \n",
      " 22  deposit_type                    58895 non-null  object \n",
      " 23  agent                           49763 non-null  float64\n",
      " 24  company                         3479 non-null   object \n",
      " 25  days_in_waiting_list            58894 non-null  float64\n",
      " 26  customer_type                   58306 non-null  object \n",
      " 27  adr                             58894 non-null  float64\n",
      " 28  required_car_parking_spaces     58306 non-null  float64\n",
      " 29  total_of_special_requests       58894 non-null  float64\n",
      " 30  reservation_status              58306 non-null  object \n",
      " 31  reservation_status_date         58894 non-null  object \n",
      " 32  kids                            201 non-null    float64\n",
      "dtypes: float64(8), int64(12), object(13)\n",
      "memory usage: 14.8+ MB\n"
     ]
    }
   ],
   "source": [
    "# Tipos de datos, nulos y columnas\n",
    "df.info()"
   ]
  },
  {
   "cell_type": "markdown",
   "id": "50e0b958",
   "metadata": {},
   "source": [
    "### Calidad de Datos"
   ]
  },
  {
   "cell_type": "markdown",
   "id": "52b98b34",
   "metadata": {},
   "source": [
    "### Analisis de Completitud"
   ]
  },
  {
   "cell_type": "code",
   "execution_count": 11,
   "id": "ba4fc9af",
   "metadata": {},
   "outputs": [
    {
     "data": {
      "text/html": [
       "<div>\n",
       "<style scoped>\n",
       "    .dataframe tbody tr th:only-of-type {\n",
       "        vertical-align: middle;\n",
       "    }\n",
       "\n",
       "    .dataframe tbody tr th {\n",
       "        vertical-align: top;\n",
       "    }\n",
       "\n",
       "    .dataframe thead th {\n",
       "        text-align: right;\n",
       "    }\n",
       "</style>\n",
       "<table border=\"1\" class=\"dataframe\">\n",
       "  <thead>\n",
       "    <tr style=\"text-align: right;\">\n",
       "      <th></th>\n",
       "      <th>Valores Nulos</th>\n",
       "      <th>% Nulos</th>\n",
       "    </tr>\n",
       "  </thead>\n",
       "  <tbody>\n",
       "    <tr>\n",
       "      <th>kids</th>\n",
       "      <td>58694</td>\n",
       "      <td>99.658715</td>\n",
       "    </tr>\n",
       "    <tr>\n",
       "      <th>company</th>\n",
       "      <td>55416</td>\n",
       "      <td>94.092877</td>\n",
       "    </tr>\n",
       "    <tr>\n",
       "      <th>agent</th>\n",
       "      <td>9132</td>\n",
       "      <td>15.505561</td>\n",
       "    </tr>\n",
       "    <tr>\n",
       "      <th>reservation_status</th>\n",
       "      <td>589</td>\n",
       "      <td>1.000085</td>\n",
       "    </tr>\n",
       "    <tr>\n",
       "      <th>customer_type</th>\n",
       "      <td>589</td>\n",
       "      <td>1.000085</td>\n",
       "    </tr>\n",
       "    <tr>\n",
       "      <th>required_car_parking_spaces</th>\n",
       "      <td>589</td>\n",
       "      <td>1.000085</td>\n",
       "    </tr>\n",
       "    <tr>\n",
       "      <th>arrival_date_year</th>\n",
       "      <td>588</td>\n",
       "      <td>0.998387</td>\n",
       "    </tr>\n",
       "    <tr>\n",
       "      <th>country</th>\n",
       "      <td>478</td>\n",
       "      <td>0.811614</td>\n",
       "    </tr>\n",
       "    <tr>\n",
       "      <th>children</th>\n",
       "      <td>4</td>\n",
       "      <td>0.006792</td>\n",
       "    </tr>\n",
       "    <tr>\n",
       "      <th>reservation_status_date</th>\n",
       "      <td>1</td>\n",
       "      <td>0.001698</td>\n",
       "    </tr>\n",
       "  </tbody>\n",
       "</table>\n",
       "</div>"
      ],
      "text/plain": [
       "                             Valores Nulos    % Nulos\n",
       "kids                                 58694  99.658715\n",
       "company                              55416  94.092877\n",
       "agent                                 9132  15.505561\n",
       "reservation_status                     589   1.000085\n",
       "customer_type                          589   1.000085\n",
       "required_car_parking_spaces            589   1.000085\n",
       "arrival_date_year                      588   0.998387\n",
       "country                                478   0.811614\n",
       "children                                 4   0.006792\n",
       "reservation_status_date                  1   0.001698"
      ]
     },
     "execution_count": 11,
     "metadata": {},
     "output_type": "execute_result"
    }
   ],
   "source": [
    "# Conteo de valores nulos por columna\n",
    "\n",
    "missing = df.isnull().sum()\n",
    "missing_percent = (missing / len(df)) * 100\n",
    "completitud = pd.DataFrame({\n",
    "    \"Valores Nulos\": missing,\n",
    "    \"% Nulos\": missing_percent\n",
    "}).sort_values(by=\"% Nulos\", ascending=False)\n",
    "\n",
    "completitud.head(10)\n"
   ]
  },
  {
   "cell_type": "markdown",
   "id": "e9d9182d",
   "metadata": {},
   "source": [
    "### Decisiones sobre Completitud\n",
    "\n",
    "A partir del análisis de valores nulos se definieron las siguientes acciones: \n",
    "\n",
    "* la variable kids presenta más del 99% de valores faltantes y resulta redundante frente a children y babies, por lo que se unificará la información de niños y bebés en una sola variable y kids será descartada\n",
    "* la variable company muestra un 94% de datos faltantes y antes de eliminarla se realizará un análisis exploratorio de sus valores no nulos para evaluar si aporta información útil; la variable agent tiene un 15% de nulos y se revisará su distribución para decidir si se imputan los faltantes con una categoría como Unknown o si se mantienen \n",
    "* otras columnas como reservation_status, customer_type, required_car_parking_spaces, arrival_date_year, country, children y reservation_status_date presentan menos del 1% de nulos, por lo que podrán imputarse con valores comunes o eliminar esas pocas filas sin que esto afecte el análisis global. Con estas decisiones se procederá a una inspección más detallada de company y agent para definir su tratamiento final.\n"
   ]
  },
  {
   "cell_type": "markdown",
   "id": "190f6157",
   "metadata": {},
   "source": [
    "#### Variable Kids"
   ]
  },
  {
   "cell_type": "code",
   "execution_count": 16,
   "id": "9f6ba4a4",
   "metadata": {},
   "outputs": [],
   "source": [
    "# Crear una nueva columna con la suma de niños y bebés\n",
    "df[\"total_kids\"] = df[\"children\"].fillna(0) + df[\"babies\"].fillna(0)\n",
    "\n",
    "# Eliminar la columna 'kids' \n",
    "df = df.drop(columns=[\"kids\"])\n"
   ]
  },
  {
   "cell_type": "markdown",
   "id": "adad15cf",
   "metadata": {},
   "source": [
    "#### Variables Company y Agent"
   ]
  },
  {
   "cell_type": "code",
   "execution_count": 17,
   "id": "f9786c99",
   "metadata": {},
   "outputs": [
    {
     "name": "stdout",
     "output_type": "stream",
     "text": [
      "Valores únicos en company: 277\n",
      "company\n",
      "223.0    784\n",
      "281.0    138\n",
      "154.0    133\n",
      "405.0    100\n",
      "94.0      87\n",
      "135.0     64\n",
      "331.0     58\n",
      "498.0     58\n",
      "47.0      57\n",
      "110.0     51\n",
      "Name: count, dtype: int64\n",
      "\n",
      "Valores únicos en agent: 249\n",
      "agent\n",
      "240.0    13907\n",
      "9.0       6997\n",
      "1.0       3184\n",
      "250.0     2870\n",
      "241.0     1721\n",
      "6.0       1378\n",
      "40.0      1013\n",
      "314.0      927\n",
      "242.0      779\n",
      "37.0       615\n",
      "Name: count, dtype: int64\n"
     ]
    }
   ],
   "source": [
    "# Conteo de valores únicos y top categorías de company y agent\n",
    "print(\"Valores únicos en company:\", df[\"company\"].nunique())\n",
    "print(df[\"company\"].value_counts(dropna=True).head(10))\n",
    "\n",
    "print(\"\\nValores únicos en agent:\", df[\"agent\"].nunique())\n",
    "print(df[\"agent\"].value_counts(dropna=True).head(10))\n"
   ]
  },
  {
   "cell_type": "markdown",
   "id": "1e1beaa5",
   "metadata": {},
   "source": [
    "* La variable company se eliminará porque presenta más del 90% de valores faltantes y los registros no nulos estaban muy dispersos sin aportar un patrón claro\n",
    "* agent sí mostró concentración en pocos valores con suficiente representatividad, por lo que se decidió conservarla e imputar sus valores faltantes como Unknown.\n"
   ]
  },
  {
   "cell_type": "code",
   "execution_count": 19,
   "id": "ed025b49",
   "metadata": {},
   "outputs": [
    {
     "name": "stdout",
     "output_type": "stream",
     "text": [
      "Columnas actuales: ['hotel', 'is_canceled', 'lead_time', 'arrival_date_year', 'arrival_date_month', 'arrival_date_week_number', 'arrival_date_day_of_month', 'stays_in_weekend_nights', 'stays_in_week_nights', 'adults', 'children', 'babies', 'meal', 'country', 'market_segment', 'distribution_channel', 'is_repeated_guest', 'previous_cancellations', 'previous_bookings_not_canceled', 'reserved_room_type', 'assigned_room_type', 'booking_changes', 'deposit_type', 'agent', 'days_in_waiting_list', 'customer_type', 'adr', 'required_car_parking_spaces', 'total_of_special_requests', 'reservation_status', 'reservation_status_date', 'total_kids']\n",
      "Nulos en agent: 0\n"
     ]
    }
   ],
   "source": [
    "# Eliminar company\n",
    "df = df.drop(columns=[\"company\"])\n",
    "\n",
    "# Imputar nulos de agent con 'Unknown'\n",
    "df[\"agent\"] = df[\"agent\"].fillna(\"Unknown\")\n",
    "\n",
    "# Verificar cambios\n",
    "print(\"Columnas actuales:\", df.columns.tolist())\n",
    "print(\"Nulos en agent:\", df[\"agent\"].isnull().sum())\n"
   ]
  },
  {
   "cell_type": "markdown",
   "id": "58390bc8",
   "metadata": {},
   "source": [
    "#### Imputacion de nulos para completitud del <1%"
   ]
  },
  {
   "cell_type": "code",
   "execution_count": 18,
   "id": "c086badb",
   "metadata": {},
   "outputs": [],
   "source": [
    "# Columnas con muy pocos nulos\n",
    "cols_bajos_nulos = [\"reservation_status\", \"customer_type\", \n",
    "                    \"required_car_parking_spaces\", \"arrival_date_year\"]\n",
    "\n",
    "# Imputamos con la moda (valor más frecuente)\n",
    "for col in cols_bajos_nulos:\n",
    "    moda = df[col].mode()[0]\n",
    "    df[col] = df[col].fillna(moda)\n",
    "\n",
    "# Country: imputar con \"Unknown\"\n",
    "df[\"country\"] = df[\"country\"].fillna(\"Unknown\")\n",
    "\n",
    "# Children: imputar nulos con 0\n",
    "df[\"children\"] = df[\"children\"].fillna(0)\n",
    "\n",
    "# reservation_status_date: imputar con la fecha más común\n",
    "moda_fecha = df[\"reservation_status_date\"].mode()[0]\n",
    "df[\"reservation_status_date\"] = df[\"reservation_status_date\"].fillna(moda_fecha)\n"
   ]
  },
  {
   "cell_type": "markdown",
   "id": "8449ff21",
   "metadata": {},
   "source": [
    "Las variables con menos del 1% de valores faltantes se imputaron con la moda en el caso de variables categóricas o con cero cuando correspondían a conteos, dado que el volumen de datos ausentes es marginal frente al tamaño total del dataset y esta estrategia permite conservar la integridad del análisis sin necesidad de eliminar registros completos.\n"
   ]
  },
  {
   "cell_type": "markdown",
   "id": "89b5c0b5",
   "metadata": {},
   "source": [
    "### Analisis de Duplicidad"
   ]
  },
  {
   "cell_type": "code",
   "execution_count": 12,
   "id": "53e4fe11",
   "metadata": {},
   "outputs": [
    {
     "name": "stdout",
     "output_type": "stream",
     "text": [
      "Número de filas duplicadas: 13340\n"
     ]
    },
    {
     "data": {
      "text/html": [
       "<div>\n",
       "<style scoped>\n",
       "    .dataframe tbody tr th:only-of-type {\n",
       "        vertical-align: middle;\n",
       "    }\n",
       "\n",
       "    .dataframe tbody tr th {\n",
       "        vertical-align: top;\n",
       "    }\n",
       "\n",
       "    .dataframe thead th {\n",
       "        text-align: right;\n",
       "    }\n",
       "</style>\n",
       "<table border=\"1\" class=\"dataframe\">\n",
       "  <thead>\n",
       "    <tr style=\"text-align: right;\">\n",
       "      <th></th>\n",
       "      <th>hotel</th>\n",
       "      <th>is_canceled</th>\n",
       "      <th>lead_time</th>\n",
       "      <th>arrival_date_year</th>\n",
       "      <th>arrival_date_month</th>\n",
       "      <th>arrival_date_week_number</th>\n",
       "      <th>arrival_date_day_of_month</th>\n",
       "      <th>stays_in_weekend_nights</th>\n",
       "      <th>stays_in_week_nights</th>\n",
       "      <th>adults</th>\n",
       "      <th>...</th>\n",
       "      <th>agent</th>\n",
       "      <th>company</th>\n",
       "      <th>days_in_waiting_list</th>\n",
       "      <th>customer_type</th>\n",
       "      <th>adr</th>\n",
       "      <th>required_car_parking_spaces</th>\n",
       "      <th>total_of_special_requests</th>\n",
       "      <th>reservation_status</th>\n",
       "      <th>reservation_status_date</th>\n",
       "      <th>kids</th>\n",
       "    </tr>\n",
       "  </thead>\n",
       "  <tbody>\n",
       "    <tr>\n",
       "      <th>5</th>\n",
       "      <td>Resort Hotel</td>\n",
       "      <td>0</td>\n",
       "      <td>14</td>\n",
       "      <td>2015.0</td>\n",
       "      <td>July</td>\n",
       "      <td>27</td>\n",
       "      <td>1</td>\n",
       "      <td>0</td>\n",
       "      <td>2</td>\n",
       "      <td>2</td>\n",
       "      <td>...</td>\n",
       "      <td>240.0</td>\n",
       "      <td>NaN</td>\n",
       "      <td>0.0</td>\n",
       "      <td>Transient</td>\n",
       "      <td>98.00</td>\n",
       "      <td>0.0</td>\n",
       "      <td>1.0</td>\n",
       "      <td>Check-Out</td>\n",
       "      <td>2015-07-03</td>\n",
       "      <td>NaN</td>\n",
       "    </tr>\n",
       "    <tr>\n",
       "      <th>22</th>\n",
       "      <td>Resort Hotel</td>\n",
       "      <td>0</td>\n",
       "      <td>72</td>\n",
       "      <td>2015.0</td>\n",
       "      <td>July</td>\n",
       "      <td>27</td>\n",
       "      <td>1</td>\n",
       "      <td>2</td>\n",
       "      <td>4</td>\n",
       "      <td>2</td>\n",
       "      <td>...</td>\n",
       "      <td>250.0</td>\n",
       "      <td>NaN</td>\n",
       "      <td>0.0</td>\n",
       "      <td>Transient</td>\n",
       "      <td>84.67</td>\n",
       "      <td>0.0</td>\n",
       "      <td>1.0</td>\n",
       "      <td>Check-Out</td>\n",
       "      <td>2015-07-07</td>\n",
       "      <td>NaN</td>\n",
       "    </tr>\n",
       "    <tr>\n",
       "      <th>43</th>\n",
       "      <td>Resort Hotel</td>\n",
       "      <td>0</td>\n",
       "      <td>70</td>\n",
       "      <td>2015.0</td>\n",
       "      <td>July</td>\n",
       "      <td>27</td>\n",
       "      <td>2</td>\n",
       "      <td>2</td>\n",
       "      <td>3</td>\n",
       "      <td>2</td>\n",
       "      <td>...</td>\n",
       "      <td>250.0</td>\n",
       "      <td>NaN</td>\n",
       "      <td>0.0</td>\n",
       "      <td>Transient</td>\n",
       "      <td>137.00</td>\n",
       "      <td>0.0</td>\n",
       "      <td>1.0</td>\n",
       "      <td>Check-Out</td>\n",
       "      <td>2015-07-07</td>\n",
       "      <td>NaN</td>\n",
       "    </tr>\n",
       "    <tr>\n",
       "      <th>138</th>\n",
       "      <td>Resort Hotel</td>\n",
       "      <td>1</td>\n",
       "      <td>5</td>\n",
       "      <td>2015.0</td>\n",
       "      <td>July</td>\n",
       "      <td>28</td>\n",
       "      <td>5</td>\n",
       "      <td>1</td>\n",
       "      <td>0</td>\n",
       "      <td>2</td>\n",
       "      <td>...</td>\n",
       "      <td>240.0</td>\n",
       "      <td>NaN</td>\n",
       "      <td>0.0</td>\n",
       "      <td>Transient</td>\n",
       "      <td>97.00</td>\n",
       "      <td>0.0</td>\n",
       "      <td>0.0</td>\n",
       "      <td>Canceled</td>\n",
       "      <td>2015-07-01</td>\n",
       "      <td>NaN</td>\n",
       "    </tr>\n",
       "    <tr>\n",
       "      <th>200</th>\n",
       "      <td>Resort Hotel</td>\n",
       "      <td>0</td>\n",
       "      <td>0</td>\n",
       "      <td>2015.0</td>\n",
       "      <td>July</td>\n",
       "      <td>28</td>\n",
       "      <td>7</td>\n",
       "      <td>0</td>\n",
       "      <td>1</td>\n",
       "      <td>1</td>\n",
       "      <td>...</td>\n",
       "      <td>240.0</td>\n",
       "      <td>NaN</td>\n",
       "      <td>0.0</td>\n",
       "      <td>Transient</td>\n",
       "      <td>109.80</td>\n",
       "      <td>0.0</td>\n",
       "      <td>3.0</td>\n",
       "      <td>Check-Out</td>\n",
       "      <td>2015-07-08</td>\n",
       "      <td>NaN</td>\n",
       "    </tr>\n",
       "  </tbody>\n",
       "</table>\n",
       "<p>5 rows × 33 columns</p>\n",
       "</div>"
      ],
      "text/plain": [
       "            hotel  is_canceled  lead_time  arrival_date_year  \\\n",
       "5    Resort Hotel            0         14             2015.0   \n",
       "22   Resort Hotel            0         72             2015.0   \n",
       "43   Resort Hotel            0         70             2015.0   \n",
       "138  Resort Hotel            1          5             2015.0   \n",
       "200  Resort Hotel            0          0             2015.0   \n",
       "\n",
       "    arrival_date_month  arrival_date_week_number  arrival_date_day_of_month  \\\n",
       "5                 July                        27                          1   \n",
       "22                July                        27                          1   \n",
       "43                July                        27                          2   \n",
       "138               July                        28                          5   \n",
       "200               July                        28                          7   \n",
       "\n",
       "     stays_in_weekend_nights  stays_in_week_nights  adults  ...  agent  \\\n",
       "5                          0                     2       2  ...  240.0   \n",
       "22                         2                     4       2  ...  250.0   \n",
       "43                         2                     3       2  ...  250.0   \n",
       "138                        1                     0       2  ...  240.0   \n",
       "200                        0                     1       1  ...  240.0   \n",
       "\n",
       "     company days_in_waiting_list customer_type     adr  \\\n",
       "5        NaN                  0.0     Transient   98.00   \n",
       "22       NaN                  0.0     Transient   84.67   \n",
       "43       NaN                  0.0     Transient  137.00   \n",
       "138      NaN                  0.0     Transient   97.00   \n",
       "200      NaN                  0.0     Transient  109.80   \n",
       "\n",
       "    required_car_parking_spaces  total_of_special_requests  \\\n",
       "5                           0.0                        1.0   \n",
       "22                          0.0                        1.0   \n",
       "43                          0.0                        1.0   \n",
       "138                         0.0                        0.0   \n",
       "200                         0.0                        3.0   \n",
       "\n",
       "     reservation_status  reservation_status_date kids  \n",
       "5             Check-Out               2015-07-03  NaN  \n",
       "22            Check-Out               2015-07-07  NaN  \n",
       "43            Check-Out               2015-07-07  NaN  \n",
       "138            Canceled               2015-07-01  NaN  \n",
       "200           Check-Out               2015-07-08  NaN  \n",
       "\n",
       "[5 rows x 33 columns]"
      ]
     },
     "execution_count": 12,
     "metadata": {},
     "output_type": "execute_result"
    }
   ],
   "source": [
    "# Verificar cantidad de filas duplicadas\n",
    "duplicados = df.duplicated().sum()\n",
    "print(f\"Número de filas duplicadas: {duplicados}\")\n",
    "\n",
    "\n",
    "df[df.duplicated()].head()\n"
   ]
  },
  {
   "cell_type": "code",
   "execution_count": 22,
   "id": "84e048c1",
   "metadata": {},
   "outputs": [
    {
     "name": "stdout",
     "output_type": "stream",
     "text": [
      "Porcentaje de duplicados: 22.65%\n"
     ]
    }
   ],
   "source": [
    "porcentaje_dup = (duplicados / len(df)) * 100\n",
    "print(f\"Porcentaje de duplicados: {porcentaje_dup:.2f}%\")\n"
   ]
  },
  {
   "cell_type": "code",
   "execution_count": 23,
   "id": "90c80dfa",
   "metadata": {},
   "outputs": [
    {
     "data": {
      "text/html": [
       "<div>\n",
       "<style scoped>\n",
       "    .dataframe tbody tr th:only-of-type {\n",
       "        vertical-align: middle;\n",
       "    }\n",
       "\n",
       "    .dataframe tbody tr th {\n",
       "        vertical-align: top;\n",
       "    }\n",
       "\n",
       "    .dataframe thead th {\n",
       "        text-align: right;\n",
       "    }\n",
       "</style>\n",
       "<table border=\"1\" class=\"dataframe\">\n",
       "  <thead>\n",
       "    <tr style=\"text-align: right;\">\n",
       "      <th></th>\n",
       "      <th>hotel</th>\n",
       "      <th>is_canceled</th>\n",
       "      <th>lead_time</th>\n",
       "      <th>arrival_date_year</th>\n",
       "      <th>arrival_date_month</th>\n",
       "      <th>arrival_date_week_number</th>\n",
       "      <th>arrival_date_day_of_month</th>\n",
       "      <th>stays_in_weekend_nights</th>\n",
       "      <th>stays_in_week_nights</th>\n",
       "      <th>adults</th>\n",
       "      <th>...</th>\n",
       "      <th>deposit_type</th>\n",
       "      <th>agent</th>\n",
       "      <th>days_in_waiting_list</th>\n",
       "      <th>customer_type</th>\n",
       "      <th>adr</th>\n",
       "      <th>required_car_parking_spaces</th>\n",
       "      <th>total_of_special_requests</th>\n",
       "      <th>reservation_status</th>\n",
       "      <th>reservation_status_date</th>\n",
       "      <th>total_kids</th>\n",
       "    </tr>\n",
       "  </thead>\n",
       "  <tbody>\n",
       "    <tr>\n",
       "      <th>40772</th>\n",
       "      <td>City Hotel</td>\n",
       "      <td>0</td>\n",
       "      <td>0</td>\n",
       "      <td>2015.0</td>\n",
       "      <td>August</td>\n",
       "      <td>32</td>\n",
       "      <td>7</td>\n",
       "      <td>0</td>\n",
       "      <td>2</td>\n",
       "      <td>2</td>\n",
       "      <td>...</td>\n",
       "      <td>No Deposit</td>\n",
       "      <td>14.0</td>\n",
       "      <td>0.0</td>\n",
       "      <td>Transient</td>\n",
       "      <td>75.0</td>\n",
       "      <td>0.0</td>\n",
       "      <td>1.0</td>\n",
       "      <td>Check-Out</td>\n",
       "      <td>2015-08-09</td>\n",
       "      <td>0.0</td>\n",
       "    </tr>\n",
       "    <tr>\n",
       "      <th>40802</th>\n",
       "      <td>City Hotel</td>\n",
       "      <td>0</td>\n",
       "      <td>0</td>\n",
       "      <td>2015.0</td>\n",
       "      <td>August</td>\n",
       "      <td>32</td>\n",
       "      <td>7</td>\n",
       "      <td>0</td>\n",
       "      <td>2</td>\n",
       "      <td>2</td>\n",
       "      <td>...</td>\n",
       "      <td>No Deposit</td>\n",
       "      <td>14.0</td>\n",
       "      <td>0.0</td>\n",
       "      <td>Transient</td>\n",
       "      <td>75.0</td>\n",
       "      <td>0.0</td>\n",
       "      <td>1.0</td>\n",
       "      <td>Check-Out</td>\n",
       "      <td>2015-08-09</td>\n",
       "      <td>0.0</td>\n",
       "    </tr>\n",
       "    <tr>\n",
       "      <th>40821</th>\n",
       "      <td>City Hotel</td>\n",
       "      <td>0</td>\n",
       "      <td>0</td>\n",
       "      <td>2015.0</td>\n",
       "      <td>August</td>\n",
       "      <td>32</td>\n",
       "      <td>8</td>\n",
       "      <td>0</td>\n",
       "      <td>1</td>\n",
       "      <td>2</td>\n",
       "      <td>...</td>\n",
       "      <td>No Deposit</td>\n",
       "      <td>9.0</td>\n",
       "      <td>0.0</td>\n",
       "      <td>Transient</td>\n",
       "      <td>89.0</td>\n",
       "      <td>0.0</td>\n",
       "      <td>1.0</td>\n",
       "      <td>Check-Out</td>\n",
       "      <td>2015-08-09</td>\n",
       "      <td>0.0</td>\n",
       "    </tr>\n",
       "    <tr>\n",
       "      <th>40838</th>\n",
       "      <td>City Hotel</td>\n",
       "      <td>0</td>\n",
       "      <td>0</td>\n",
       "      <td>2015.0</td>\n",
       "      <td>August</td>\n",
       "      <td>32</td>\n",
       "      <td>8</td>\n",
       "      <td>0</td>\n",
       "      <td>1</td>\n",
       "      <td>2</td>\n",
       "      <td>...</td>\n",
       "      <td>No Deposit</td>\n",
       "      <td>9.0</td>\n",
       "      <td>0.0</td>\n",
       "      <td>Transient</td>\n",
       "      <td>89.0</td>\n",
       "      <td>0.0</td>\n",
       "      <td>1.0</td>\n",
       "      <td>Check-Out</td>\n",
       "      <td>2015-08-09</td>\n",
       "      <td>0.0</td>\n",
       "    </tr>\n",
       "    <tr>\n",
       "      <th>41067</th>\n",
       "      <td>City Hotel</td>\n",
       "      <td>0</td>\n",
       "      <td>0</td>\n",
       "      <td>2015.0</td>\n",
       "      <td>August</td>\n",
       "      <td>33</td>\n",
       "      <td>11</td>\n",
       "      <td>0</td>\n",
       "      <td>1</td>\n",
       "      <td>1</td>\n",
       "      <td>...</td>\n",
       "      <td>No Deposit</td>\n",
       "      <td>Unknown</td>\n",
       "      <td>0.0</td>\n",
       "      <td>Transient-Party</td>\n",
       "      <td>88.0</td>\n",
       "      <td>0.0</td>\n",
       "      <td>0.0</td>\n",
       "      <td>Check-Out</td>\n",
       "      <td>2015-08-12</td>\n",
       "      <td>0.0</td>\n",
       "    </tr>\n",
       "    <tr>\n",
       "      <th>41073</th>\n",
       "      <td>City Hotel</td>\n",
       "      <td>0</td>\n",
       "      <td>0</td>\n",
       "      <td>2015.0</td>\n",
       "      <td>August</td>\n",
       "      <td>33</td>\n",
       "      <td>11</td>\n",
       "      <td>0</td>\n",
       "      <td>1</td>\n",
       "      <td>1</td>\n",
       "      <td>...</td>\n",
       "      <td>No Deposit</td>\n",
       "      <td>Unknown</td>\n",
       "      <td>0.0</td>\n",
       "      <td>Transient-Party</td>\n",
       "      <td>88.0</td>\n",
       "      <td>0.0</td>\n",
       "      <td>0.0</td>\n",
       "      <td>Check-Out</td>\n",
       "      <td>2015-08-12</td>\n",
       "      <td>0.0</td>\n",
       "    </tr>\n",
       "    <tr>\n",
       "      <th>41071</th>\n",
       "      <td>City Hotel</td>\n",
       "      <td>0</td>\n",
       "      <td>0</td>\n",
       "      <td>2015.0</td>\n",
       "      <td>August</td>\n",
       "      <td>33</td>\n",
       "      <td>11</td>\n",
       "      <td>0</td>\n",
       "      <td>1</td>\n",
       "      <td>2</td>\n",
       "      <td>...</td>\n",
       "      <td>No Deposit</td>\n",
       "      <td>Unknown</td>\n",
       "      <td>0.0</td>\n",
       "      <td>Transient</td>\n",
       "      <td>80.0</td>\n",
       "      <td>0.0</td>\n",
       "      <td>0.0</td>\n",
       "      <td>Check-Out</td>\n",
       "      <td>2015-08-12</td>\n",
       "      <td>0.0</td>\n",
       "    </tr>\n",
       "    <tr>\n",
       "      <th>41074</th>\n",
       "      <td>City Hotel</td>\n",
       "      <td>0</td>\n",
       "      <td>0</td>\n",
       "      <td>2015.0</td>\n",
       "      <td>August</td>\n",
       "      <td>33</td>\n",
       "      <td>11</td>\n",
       "      <td>0</td>\n",
       "      <td>1</td>\n",
       "      <td>2</td>\n",
       "      <td>...</td>\n",
       "      <td>No Deposit</td>\n",
       "      <td>Unknown</td>\n",
       "      <td>0.0</td>\n",
       "      <td>Transient</td>\n",
       "      <td>80.0</td>\n",
       "      <td>0.0</td>\n",
       "      <td>0.0</td>\n",
       "      <td>Check-Out</td>\n",
       "      <td>2015-08-12</td>\n",
       "      <td>0.0</td>\n",
       "    </tr>\n",
       "    <tr>\n",
       "      <th>41142</th>\n",
       "      <td>City Hotel</td>\n",
       "      <td>0</td>\n",
       "      <td>0</td>\n",
       "      <td>2015.0</td>\n",
       "      <td>August</td>\n",
       "      <td>33</td>\n",
       "      <td>13</td>\n",
       "      <td>0</td>\n",
       "      <td>2</td>\n",
       "      <td>2</td>\n",
       "      <td>...</td>\n",
       "      <td>No Deposit</td>\n",
       "      <td>9.0</td>\n",
       "      <td>0.0</td>\n",
       "      <td>Transient</td>\n",
       "      <td>85.0</td>\n",
       "      <td>0.0</td>\n",
       "      <td>0.0</td>\n",
       "      <td>Check-Out</td>\n",
       "      <td>2015-08-15</td>\n",
       "      <td>0.0</td>\n",
       "    </tr>\n",
       "    <tr>\n",
       "      <th>41144</th>\n",
       "      <td>City Hotel</td>\n",
       "      <td>0</td>\n",
       "      <td>0</td>\n",
       "      <td>2015.0</td>\n",
       "      <td>August</td>\n",
       "      <td>33</td>\n",
       "      <td>13</td>\n",
       "      <td>0</td>\n",
       "      <td>2</td>\n",
       "      <td>2</td>\n",
       "      <td>...</td>\n",
       "      <td>No Deposit</td>\n",
       "      <td>9.0</td>\n",
       "      <td>0.0</td>\n",
       "      <td>Transient</td>\n",
       "      <td>85.0</td>\n",
       "      <td>0.0</td>\n",
       "      <td>0.0</td>\n",
       "      <td>Check-Out</td>\n",
       "      <td>2015-08-15</td>\n",
       "      <td>0.0</td>\n",
       "    </tr>\n",
       "  </tbody>\n",
       "</table>\n",
       "<p>10 rows × 32 columns</p>\n",
       "</div>"
      ],
      "text/plain": [
       "            hotel  is_canceled  lead_time  arrival_date_year  \\\n",
       "40772  City Hotel            0          0             2015.0   \n",
       "40802  City Hotel            0          0             2015.0   \n",
       "40821  City Hotel            0          0             2015.0   \n",
       "40838  City Hotel            0          0             2015.0   \n",
       "41067  City Hotel            0          0             2015.0   \n",
       "41073  City Hotel            0          0             2015.0   \n",
       "41071  City Hotel            0          0             2015.0   \n",
       "41074  City Hotel            0          0             2015.0   \n",
       "41142  City Hotel            0          0             2015.0   \n",
       "41144  City Hotel            0          0             2015.0   \n",
       "\n",
       "      arrival_date_month  arrival_date_week_number  arrival_date_day_of_month  \\\n",
       "40772             August                        32                          7   \n",
       "40802             August                        32                          7   \n",
       "40821             August                        32                          8   \n",
       "40838             August                        32                          8   \n",
       "41067             August                        33                         11   \n",
       "41073             August                        33                         11   \n",
       "41071             August                        33                         11   \n",
       "41074             August                        33                         11   \n",
       "41142             August                        33                         13   \n",
       "41144             August                        33                         13   \n",
       "\n",
       "       stays_in_weekend_nights  stays_in_week_nights  adults  ...  \\\n",
       "40772                        0                     2       2  ...   \n",
       "40802                        0                     2       2  ...   \n",
       "40821                        0                     1       2  ...   \n",
       "40838                        0                     1       2  ...   \n",
       "41067                        0                     1       1  ...   \n",
       "41073                        0                     1       1  ...   \n",
       "41071                        0                     1       2  ...   \n",
       "41074                        0                     1       2  ...   \n",
       "41142                        0                     2       2  ...   \n",
       "41144                        0                     2       2  ...   \n",
       "\n",
       "       deposit_type    agent days_in_waiting_list    customer_type   adr  \\\n",
       "40772    No Deposit     14.0                  0.0        Transient  75.0   \n",
       "40802    No Deposit     14.0                  0.0        Transient  75.0   \n",
       "40821    No Deposit      9.0                  0.0        Transient  89.0   \n",
       "40838    No Deposit      9.0                  0.0        Transient  89.0   \n",
       "41067    No Deposit  Unknown                  0.0  Transient-Party  88.0   \n",
       "41073    No Deposit  Unknown                  0.0  Transient-Party  88.0   \n",
       "41071    No Deposit  Unknown                  0.0        Transient  80.0   \n",
       "41074    No Deposit  Unknown                  0.0        Transient  80.0   \n",
       "41142    No Deposit      9.0                  0.0        Transient  85.0   \n",
       "41144    No Deposit      9.0                  0.0        Transient  85.0   \n",
       "\n",
       "      required_car_parking_spaces  total_of_special_requests  \\\n",
       "40772                         0.0                        1.0   \n",
       "40802                         0.0                        1.0   \n",
       "40821                         0.0                        1.0   \n",
       "40838                         0.0                        1.0   \n",
       "41067                         0.0                        0.0   \n",
       "41073                         0.0                        0.0   \n",
       "41071                         0.0                        0.0   \n",
       "41074                         0.0                        0.0   \n",
       "41142                         0.0                        0.0   \n",
       "41144                         0.0                        0.0   \n",
       "\n",
       "       reservation_status  reservation_status_date total_kids  \n",
       "40772           Check-Out               2015-08-09        0.0  \n",
       "40802           Check-Out               2015-08-09        0.0  \n",
       "40821           Check-Out               2015-08-09        0.0  \n",
       "40838           Check-Out               2015-08-09        0.0  \n",
       "41067           Check-Out               2015-08-12        0.0  \n",
       "41073           Check-Out               2015-08-12        0.0  \n",
       "41071           Check-Out               2015-08-12        0.0  \n",
       "41074           Check-Out               2015-08-12        0.0  \n",
       "41142           Check-Out               2015-08-15        0.0  \n",
       "41144           Check-Out               2015-08-15        0.0  \n",
       "\n",
       "[10 rows x 32 columns]"
      ]
     },
     "execution_count": 23,
     "metadata": {},
     "output_type": "execute_result"
    }
   ],
   "source": [
    "# Revisar columnas que difieren entre duplicados (si es que hay)\n",
    "duplicados_detalle = df[df.duplicated(keep=False)].sort_values(by=df.columns.tolist())\n",
    "duplicados_detalle.head(10)\n"
   ]
  },
  {
   "cell_type": "code",
   "execution_count": 27,
   "id": "ea670cf4",
   "metadata": {},
   "outputs": [
    {
     "name": "stdout",
     "output_type": "stream",
     "text": [
      "Duplicados exactos: 0\n",
      "Porcentaje de duplicados exactos: 0.00%\n"
     ]
    }
   ],
   "source": [
    "# Número de filas duplicadas considerando TODAS las columnas\n",
    "dup_exactos = df.duplicated().sum()\n",
    "print(\"Duplicados exactos:\", dup_exactos)\n",
    "\n",
    "# Porcentaje de duplicados exactos\n",
    "porc_exactos = dup_exactos / len(df) * 100\n",
    "print(f\"Porcentaje de duplicados exactos: {porc_exactos:.2f}%\")\n"
   ]
  },
  {
   "cell_type": "markdown",
   "id": "5e84b261",
   "metadata": {},
   "source": [
    "El análisis confirmó que el 23.53% de los registros eran duplicados exactos en todas las columnas. Estos casos no aportan información adicional y, de mantenerse, podrían sesgar el análisis, por lo que se decidió eliminarlos y conservar únicamente las observaciones únicas.\n"
   ]
  },
  {
   "cell_type": "code",
   "execution_count": 26,
   "id": "5e6f7de6",
   "metadata": {},
   "outputs": [
    {
     "name": "stdout",
     "output_type": "stream",
     "text": [
      "Dimensiones después de eliminar duplicados exactos: (45039, 32)\n"
     ]
    }
   ],
   "source": [
    "# Eliminar duplicados exactos\n",
    "df = df.drop_duplicates().reset_index(drop=True)\n",
    "\n",
    "# Verificar nueva dimensión\n",
    "print(\"Dimensiones después de eliminar duplicados exactos:\", df.shape)\n"
   ]
  },
  {
   "cell_type": "markdown",
   "id": "c9526006",
   "metadata": {},
   "source": [
    "### Analisis de Unicidad"
   ]
  },
  {
   "cell_type": "code",
   "execution_count": 29,
   "id": "9f9ba34d",
   "metadata": {},
   "outputs": [
    {
     "name": "stdout",
     "output_type": "stream",
     "text": [
      "Agent → valores únicos: 250 de 45039 registros\n",
      "Reservation_status_date → valores únicos: 921 de 45039 registros\n",
      "Duplicados en combinación hotel + reservation_status_date + adr: 10551\n"
     ]
    }
   ],
   "source": [
    "# Revisar unicidad en columnas individuales\n",
    "print(\"Agent → valores únicos:\", df[\"agent\"].nunique(), \"de\", len(df), \"registros\")\n",
    "print(\"Reservation_status_date → valores únicos:\", df[\"reservation_status_date\"].nunique(), \"de\", len(df), \"registros\")\n",
    "\n",
    "# Revisar unicidad en combinación de columnas\n",
    "dup_combo = df.duplicated(subset=[\"hotel\", \"reservation_status_date\", \"adr\"]).sum()\n",
    "print(\"Duplicados en combinación hotel + reservation_status_date + adr:\", dup_combo)\n"
   ]
  },
  {
   "cell_type": "markdown",
   "id": "3d2c7142",
   "metadata": {},
   "source": [
    "El análisis de unicidad mostró que ninguna de las variables disponibles ni sus combinaciones sencillas permiten identificar de manera única cada reserva. La columna agent, que corresponde al identificador de la agencia, se repite en miles de registros; reservation_status_date presenta apenas 921 fechas distintas para todo el conjunto; y la combinación de hotel, fecha y tarifa promedio diaria también genera duplicados. Este resultado es coherente con el diccionario de datos, ya que estas variables fueron definidas como categorías, fechas o indicadores de estado y no como claves primarias, por lo que no se esperaba unicidad en ellas.\n"
   ]
  },
  {
   "cell_type": "markdown",
   "id": "87ecd7af",
   "metadata": {},
   "source": [
    "### Analisis de Consistencia "
   ]
  },
  {
   "cell_type": "code",
   "execution_count": 46,
   "id": "6f139c79",
   "metadata": {},
   "outputs": [],
   "source": [
    "# Total de huéspedes \n",
    "tot_huespedes = df[\"adults\"].fillna(0) + df[\"total_kids\"].fillna(0)\n",
    "\n",
    "incon_huespedes_tot = df[tot_huespedes <= 0]\n"
   ]
  },
  {
   "cell_type": "code",
   "execution_count": 48,
   "id": "cf79970e",
   "metadata": {},
   "outputs": [],
   "source": [
    "total_noches = df[\"stays_in_weekend_nights\"].fillna(0) + df[\"stays_in_week_nights\"].fillna(0)\n",
    "incon_noches = df[total_noches <= 0]\n",
    "\n",
    "# Componentes negativas por separado\n",
    "neg_wend = df[df[\"stays_in_weekend_nights\"] < 0]\n",
    "neg_week = df[df[\"stays_in_week_nights\"] < 0]\n",
    "\n",
    "\n"
   ]
  },
  {
   "cell_type": "code",
   "execution_count": 50,
   "id": "ad0499e8",
   "metadata": {},
   "outputs": [],
   "source": [
    "# Negativos en componentes\n",
    "neg_adults  = df[df[\"adults\"] < 0]\n",
    "neg_child   = df[df[\"children\"] < 0]\n",
    "neg_babies  = df[df[\"babies\"] < 0]\n",
    "neg_kids    = df[df[\"total_kids\"] < 0]\n",
    "\n",
    "# Casos con adultos == 0 y al menos un menor (puede ser un edge case de captura)\n",
    "sin_adulto_con_menor = df[(df[\"adults\"] == 0) & (df[\"total_kids\"] > 0)]\n",
    "\n",
    "\n"
   ]
  },
  {
   "cell_type": "code",
   "execution_count": 51,
   "id": "e5e69329",
   "metadata": {},
   "outputs": [],
   "source": [
    "neg_adr   = df[df[\"adr\"] < 0]\n",
    "neg_lead  = df[df[\"lead_time\"] < 0]\n",
    "neg_wait  = df[df[\"days_in_waiting_list\"] < 0]\n",
    "neg_park  = df[df[\"required_car_parking_spaces\"] < 0]\n",
    "neg_reqs  = df[df[\"total_of_special_requests\"] < 0]\n"
   ]
  },
  {
   "cell_type": "code",
   "execution_count": 52,
   "id": "ed48a4d1",
   "metadata": {},
   "outputs": [
    {
     "data": {
      "text/plain": [
       "{'huespedes_totales_<=0': 136,\n",
       " 'adultos_negativos': 98,\n",
       " 'children_negativos': 0,\n",
       " 'babies_negativos': 90,\n",
       " 'total_kids_negativo': 82,\n",
       " 'sin_adulto_con_menor': 73,\n",
       " 'noches_totales_<=0': 386,\n",
       " 'adr_negativo': 1,\n",
       " 'lead_time_negativo': 0,\n",
       " 'waiting_list_negativo': 0,\n",
       " 'parking_negativo': 0,\n",
       " 'special_requests_negativo': 0}"
      ]
     },
     "execution_count": 52,
     "metadata": {},
     "output_type": "execute_result"
    }
   ],
   "source": [
    "resumen = {\n",
    "    \"huespedes_totales_<=0\": len(incon_huespedes_tot),\n",
    "    \"adultos_negativos\": len(neg_adults),\n",
    "    \"children_negativos\": len(neg_child),\n",
    "    \"babies_negativos\": len(neg_babies),\n",
    "    \"total_kids_negativo\": len(neg_kids),\n",
    "    \"sin_adulto_con_menor\": len(sin_adulto_con_menor),\n",
    "    \"noches_totales_<=0\": len(incon_noches),\n",
    "    \"adr_negativo\": len(neg_adr),\n",
    "    \"lead_time_negativo\": len(neg_lead),\n",
    "    \"waiting_list_negativo\": len(neg_wait),\n",
    "    \"parking_negativo\": len(neg_park),\n",
    "    \"special_requests_negativo\": len(neg_reqs),\n",
    "}\n",
    "resumen\n"
   ]
  },
  {
   "cell_type": "markdown",
   "id": "c35f0769",
   "metadata": {},
   "source": [
    "La revisión de consistencia evidenció 136 registros con cero o valores negativos en la cantidad total de huéspedes, 386 registros con cero noches y un caso con ADR negativo. Según el diccionario de datos, estas situaciones no son posibles, ya que toda reserva debe tener al menos un huésped, una duración mínima de una noche y un costo no negativo. Por este motivo se decidió eliminar los registros con huéspedes totales o noches iguales o menores a cero y corregir el ADR negativo a cero, con el fin de garantizar la coherencia del dataset para el análisis.\n"
   ]
  },
  {
   "cell_type": "code",
   "execution_count": 53,
   "id": "36738a3c",
   "metadata": {},
   "outputs": [
    {
     "name": "stdout",
     "output_type": "stream",
     "text": [
      "Dimensiones después de limpieza de consistencia: (44523, 32)\n"
     ]
    }
   ],
   "source": [
    "# Eliminar reservas con huéspedes totales <= 0\n",
    "df = df[(df[\"adults\"] + df[\"total_kids\"]) > 0]\n",
    "\n",
    "# Eliminar reservas con noches totales <= 0\n",
    "df = df[(df[\"stays_in_weekend_nights\"] + df[\"stays_in_week_nights\"]) > 0]\n",
    "\n",
    "# Corregir ADR negativo a 0\n",
    "df.loc[df[\"adr\"] < 0, \"adr\"] = 0\n",
    "\n",
    "# Verificar dimensiones después de limpieza\n",
    "print(\"Dimensiones después de limpieza de consistencia:\", df.shape)\n"
   ]
  },
  {
   "cell_type": "markdown",
   "id": "4f4d17e9",
   "metadata": {},
   "source": [
    "### Analisis de Validez"
   ]
  },
  {
   "cell_type": "code",
   "execution_count": 54,
   "id": "7d346916",
   "metadata": {},
   "outputs": [
    {
     "name": "stdout",
     "output_type": "stream",
     "text": [
      "Valores de 'adults' menores a 0: 5\n",
      "Valores de 'children' menores a 0: 0\n",
      "Valores de 'babies' menores a 0: 77\n",
      "Valores de 'total_kids' menores a 0: 69\n",
      "\n",
      "Valores de 'lead_time' menores a 0: 0\n",
      "Valores de 'stays_in_weekend_nights' menores a 0: 0\n",
      "Valores de 'stays_in_week_nights' menores a 0: 0\n",
      "\n",
      "Valores de 'adr' menores a 0: 0\n",
      "Valores de 'required_car_parking_spaces' menores a 0: 0\n",
      "Valores de 'total_of_special_requests' menores a 0: 0\n"
     ]
    }
   ],
   "source": [
    "# Verificación básica de validez en variables clave\n",
    "print(\"Valores de 'adults' menores a 0:\", (df[\"adults\"] < 0).sum())\n",
    "print(\"Valores de 'children' menores a 0:\", (df[\"children\"] < 0).sum())\n",
    "print(\"Valores de 'babies' menores a 0:\", (df[\"babies\"] < 0).sum())\n",
    "print(\"Valores de 'total_kids' menores a 0:\", (df[\"total_kids\"] < 0).sum())\n",
    "\n",
    "print(\"\\nValores de 'lead_time' menores a 0:\", (df[\"lead_time\"] < 0).sum())\n",
    "print(\"Valores de 'stays_in_weekend_nights' menores a 0:\", (df[\"stays_in_weekend_nights\"] < 0).sum())\n",
    "print(\"Valores de 'stays_in_week_nights' menores a 0:\", (df[\"stays_in_week_nights\"] < 0).sum())\n",
    "\n",
    "print(\"\\nValores de 'adr' menores a 0:\", (df[\"adr\"] < 0).sum())\n",
    "print(\"Valores de 'required_car_parking_spaces' menores a 0:\", (df[\"required_car_parking_spaces\"] < 0).sum())\n",
    "print(\"Valores de 'total_of_special_requests' menores a 0:\", (df[\"total_of_special_requests\"] < 0).sum())\n"
   ]
  },
  {
   "cell_type": "code",
   "execution_count": 55,
   "id": "836b5830",
   "metadata": {},
   "outputs": [
    {
     "data": {
      "text/html": [
       "<div>\n",
       "<style scoped>\n",
       "    .dataframe tbody tr th:only-of-type {\n",
       "        vertical-align: middle;\n",
       "    }\n",
       "\n",
       "    .dataframe tbody tr th {\n",
       "        vertical-align: top;\n",
       "    }\n",
       "\n",
       "    .dataframe thead th {\n",
       "        text-align: right;\n",
       "    }\n",
       "</style>\n",
       "<table border=\"1\" class=\"dataframe\">\n",
       "  <thead>\n",
       "    <tr style=\"text-align: right;\">\n",
       "      <th></th>\n",
       "      <th>adults</th>\n",
       "      <th>children</th>\n",
       "      <th>babies</th>\n",
       "      <th>total_kids</th>\n",
       "      <th>lead_time</th>\n",
       "      <th>stays_in_weekend_nights</th>\n",
       "      <th>stays_in_week_nights</th>\n",
       "      <th>adr</th>\n",
       "      <th>required_car_parking_spaces</th>\n",
       "      <th>total_of_special_requests</th>\n",
       "    </tr>\n",
       "  </thead>\n",
       "  <tbody>\n",
       "    <tr>\n",
       "      <th>min</th>\n",
       "      <td>-1</td>\n",
       "      <td>0.0</td>\n",
       "      <td>-1</td>\n",
       "      <td>-1.0</td>\n",
       "      <td>0</td>\n",
       "      <td>0</td>\n",
       "      <td>0</td>\n",
       "      <td>0.0</td>\n",
       "      <td>0.0</td>\n",
       "      <td>0.0</td>\n",
       "    </tr>\n",
       "    <tr>\n",
       "      <th>max</th>\n",
       "      <td>100</td>\n",
       "      <td>10.0</td>\n",
       "      <td>100</td>\n",
       "      <td>100.0</td>\n",
       "      <td>709</td>\n",
       "      <td>19</td>\n",
       "      <td>50</td>\n",
       "      <td>5400.0</td>\n",
       "      <td>8.0</td>\n",
       "      <td>5.0</td>\n",
       "    </tr>\n",
       "  </tbody>\n",
       "</table>\n",
       "</div>"
      ],
      "text/plain": [
       "     adults  children  babies  total_kids  lead_time  stays_in_weekend_nights  \\\n",
       "min      -1       0.0      -1        -1.0          0                        0   \n",
       "max     100      10.0     100       100.0        709                       19   \n",
       "\n",
       "     stays_in_week_nights     adr  required_car_parking_spaces  \\\n",
       "min                     0     0.0                          0.0   \n",
       "max                    50  5400.0                          8.0   \n",
       "\n",
       "     total_of_special_requests  \n",
       "min                        0.0  \n",
       "max                        5.0  "
      ]
     },
     "execution_count": 55,
     "metadata": {},
     "output_type": "execute_result"
    }
   ],
   "source": [
    "# Revisar mínimos y máximos de variables clave para detectar outliers\n",
    "cols_check = [\n",
    "    \"adults\", \"children\", \"babies\", \"total_kids\",\n",
    "    \"lead_time\", \"stays_in_weekend_nights\", \"stays_in_week_nights\",\n",
    "    \"adr\", \"required_car_parking_spaces\", \"total_of_special_requests\"\n",
    "]\n",
    "\n",
    "df[cols_check].agg([\"min\", \"max\"])\n"
   ]
  },
  {
   "cell_type": "markdown",
   "id": "549c67e4",
   "metadata": {},
   "source": [
    "La revisión de validez mostró la presencia de valores negativos en adultos, bebés y total_kids, lo cual no es posible de acuerdo con el diccionario de datos. Además, se identificaron valores máximos inusuales como reservas con hasta 100 adultos o 100 bebés, estadías de 50 noches entre semana, lead_time de más de 700 días y un ADR superior a 5000. Estos casos corresponden a outliers o errores de captura, por lo que requieren un tratamiento especial en la etapa de limpieza para evitar que distorsionen el análisis.\n"
   ]
  },
  {
   "cell_type": "markdown",
   "id": "e027c0fb",
   "metadata": {},
   "source": [
    "##### 1. Corregir negativos en huéspedes (adults, children, babies, total_kids)"
   ]
  },
  {
   "cell_type": "code",
   "execution_count": null,
   "id": "6392a1de",
   "metadata": {},
   "outputs": [],
   "source": [
    "\n",
    "df.loc[df[\"adults\"] < 0, \"adults\"] = 0\n",
    "df.loc[df[\"children\"] < 0, \"children\"] = 0\n",
    "df.loc[df[\"babies\"] < 0, \"babies\"] = 0\n",
    "df.loc[df[\"total_kids\"] < 0, \"total_kids\"] = 0"
   ]
  },
  {
   "cell_type": "markdown",
   "id": "3eb607fc",
   "metadata": {},
   "source": [
    "##### 2. Definir umbrales razonables para detectar outliers"
   ]
  },
  {
   "cell_type": "code",
   "execution_count": null,
   "id": "2d670a08",
   "metadata": {},
   "outputs": [],
   "source": [
    "max_adults = 10          # pocas habitaciones permiten más de 10 adultos\n",
    "max_children = 10        # familias grandes, pero raras >10\n",
    "max_babies = 5           # bebés >5 en una sola reserva es poco realista\n",
    "max_total_kids = 15      # límite razonable para menores en una reserva\n",
    "max_stay = 30            # >30 noches = caso atípico (más de un mes)\n",
    "max_lead_time = 730      # >2 años no tiene sentido (709 aún entra)\n",
    "max_adr = 1000           # tarifas diarias promedio >1000 son poco realistas"
   ]
  },
  {
   "cell_type": "markdown",
   "id": "b7e0ad96",
   "metadata": {},
   "source": [
    "Estos Umbrales son ajustables segín requerimientos de negocio y redefinición de contexto."
   ]
  },
  {
   "cell_type": "markdown",
   "id": "f78b6e9e",
   "metadata": {},
   "source": [
    "##### 3. Filtrar registros fuera de rango"
   ]
  },
  {
   "cell_type": "code",
   "execution_count": null,
   "id": "1a90765d",
   "metadata": {},
   "outputs": [],
   "source": [
    "\n",
    "df = df[df[\"adults\"] <= max_adults]\n",
    "df = df[df[\"children\"] <= max_children]\n",
    "df = df[df[\"babies\"] <= max_babies]\n",
    "df = df[df[\"total_kids\"] <= max_total_kids]\n",
    "df = df[(df[\"stays_in_weekend_nights\"] + df[\"stays_in_week_nights\"]) <= max_stay]\n",
    "df = df[df[\"lead_time\"] <= max_lead_time]\n",
    "df = df[df[\"adr\"] <= max_adr]"
   ]
  },
  {
   "cell_type": "code",
   "execution_count": null,
   "id": "c4fba9ac",
   "metadata": {},
   "outputs": [
    {
     "name": "stdout",
     "output_type": "stream",
     "text": [
      "Dimensiones después de limpieza de validez: (44296, 32)\n"
     ]
    }
   ],
   "source": [
    "\n",
    "print(\"Dimensiones después de limpieza de validez:\", df.shape)"
   ]
  },
  {
   "cell_type": "markdown",
   "id": "bbf34b68",
   "metadata": {},
   "source": [
    "Tras aplicar las reglas de limpieza de validez, los valores negativos en adultos, bebés y total_kids se corrigieron a cero y se definieron umbrales máximos razonables para eliminar outliers en huéspedes, noches, lead_time y tarifa diaria promedio (ADR). Con esto, las variables quedaron dentro de rangos plausibles: hasta 10 adultos, 10 niños, 2 bebés, estadías menores a un mes, lead_time máximo de 709 días y ADR máximo de 508. Este ajuste asegura que el dataset refleje escenarios realistas y evita distorsiones en el análisis estadístico y visual.\n"
   ]
  },
  {
   "cell_type": "markdown",
   "id": "f6a9354d",
   "metadata": {},
   "source": [
    "## Resumen proceso de Calidad de los Datos"
   ]
  },
  {
   "cell_type": "markdown",
   "id": "36182f97",
   "metadata": {},
   "source": [
    "Se realizó un análisis completo de calidad de datos considerando las dimensiones de completitud, duplicidad, unicidad, consistencia y validez.\n",
    "\n",
    "**Completitud:**  \n",
    "Se identificaron columnas con altos porcentajes de valores faltantes. La variable *kids* fue eliminada por redundante frente a *children* y *babies*, mientras que *company* se descartó por tener más del 90% de nulos y no aportar información relevante. La variable *agent* se mantuvo, imputando los nulos con la categoría *Unknown*. Los pocos nulos restantes en otras columnas (<1%) se imputaron con la moda o con cero según correspondiera.\n",
    "\n",
    "**Duplicidad:**  \n",
    "Se encontró un 23.5% de duplicados exactos en todas las columnas, los cuales fueron eliminados para evitar sesgos. También se revisó duplicidad por subconjuntos de variables (hotel, fecha y huéspedes), pero estas correspondían a reservas distintas y no fueron eliminadas.\n",
    "\n",
    "**Unicidad:**  \n",
    "Ninguna columna funciona como identificador único de reserva. Agent y reservation_status_date se repiten en miles de registros y la combinación de hotel, fecha y ADR también genera duplicados. Este resultado es coherente con el diccionario de datos, que define estas variables como categorías, fechas o estados y no como claves primarias.\n",
    "\n",
    "**Consistencia:**  \n",
    "Se detectaron 136 registros con huéspedes totales ≤ 0, 386 registros con noches totales ≤ 0 y un ADR negativo. Según el diccionario, una reserva debe tener al menos un huésped, al menos una noche y un costo no negativo, por lo que se eliminaron dichos registros y se corrigió el ADR negativo a cero.\n",
    "\n",
    "**Validez:**  \n",
    "Se hallaron valores negativos en adultos, bebés y total_kids, además de outliers como 100 adultos, 100 bebés y un ADR de 5400. Se corrigieron los negativos a cero y se aplicaron umbrales máximos razonables para filtrar outliers, quedando las variables en rangos plausibles: hasta 10 adultos, 10 niños, 2 bebés, estadías menores a un mes, lead_time máximo de 709 días y ADR máximo de 508.\n",
    "\n",
    "En conjunto, estos pasos de limpieza garantizaron un dataset más coherente, representativo y listo para el análisis exploratorio y la inferencia estadística.\n"
   ]
  },
  {
   "cell_type": "markdown",
   "id": "75fe3492",
   "metadata": {},
   "source": [
    "# Análisis Exploratorio de Datos (EDA)"
   ]
  },
  {
   "cell_type": "markdown",
   "id": "b8596a6f",
   "metadata": {},
   "source": [
    "Las cinco variables clave seleccionadas para el entendimiento inicial fueron:\n",
    " 1. is_canceled\n",
    " 2. lead_time \n",
    " 3. hotel \n",
    " 4. adr  \n",
    " 5. stays_in_week_nights \n",
    " \n",
    " Estas se eligieron porque representan los factores más relevantes para el problema de negocio: is_canceled indica el objetivo central del análisis al reflejar si la reserva fue cancelada; lead_time muestra el tiempo de anticipación, que puede influir en la probabilidad de cancelación; hotel permite diferenciar entre los dos tipos de establecimientos y comparar su comportamiento; adr refleja la tarifa promedio diaria, esencial para evaluar la rentabilidad y su relación con cancelaciones; y stays_in_week_nights captura la duración de la estadía entre semana, importante para analizar patrones de ocupación.\n"
   ]
  },
  {
   "cell_type": "code",
   "execution_count": 62,
   "id": "a969987f",
   "metadata": {},
   "outputs": [
    {
     "data": {
      "image/png": "[encoded data removed]",
      "text/plain": [
       "<Figure size 800x550 with 1 Axes>"
      ]
     },
     "metadata": {},
     "output_type": "display_data"
    }
   ],
   "source": [
    "# Distribución de cancelaciones\n",
    "ax = df[\"is_canceled\"].value_counts(normalize=True).plot(\n",
    "    kind=\"bar\", title=\"Proporción de reservas canceladas vs no canceladas\"\n",
    ")\n",
    "ax.set_xlabel(\"0 = No Cancelada | 1 = Cancelada\")\n",
    "ax.set_ylabel(\"Proporción\")\n",
    "plt.show()\n"
   ]
  },
  {
   "cell_type": "markdown",
   "id": "24a045cd",
   "metadata": {},
   "source": [
    "Se eligió un gráfico de barras porque permite comparar de manera clara y directa la proporción de reservas canceladas frente a las no canceladas en una variable categórica binaria. El resultado muestra que aproximadamente un tercio de las reservas terminan canceladas, mientras que la mayoría se mantienen efectivas, lo que confirma que la cancelación es un fenómeno frecuente y relevante de analizar.\n"
   ]
  },
  {
   "cell_type": "code",
   "execution_count": 63,
   "id": "ae722a42",
   "metadata": {},
   "outputs": [
    {
     "data": {
      "image/png": "[encoded data removed]",
      "text/plain": [
       "<Figure size 800x550 with 1 Axes>"
      ]
     },
     "metadata": {},
     "output_type": "display_data"
    }
   ],
   "source": [
    "# Distribución de lead_time\n",
    "sns.histplot(df[\"lead_time\"], bins=50, kde=True)\n",
    "plt.title(\"Distribución de Lead Time (días entre reserva y llegada)\")\n",
    "plt.xlabel(\"Días de anticipación\")\n",
    "plt.ylabel(\"Frecuencia\")\n",
    "plt.show()"
   ]
  },
  {
   "cell_type": "markdown",
   "id": "05bf9e30",
   "metadata": {},
   "source": [
    "Se eligió un histograma con línea de densidad porque es el tipo de gráfico más adecuado para mostrar la distribución de una variable numérica continua como el tiempo de anticipación entre la reserva y la llegada. El resultado evidencia una distribución altamente sesgada hacia la izquierda, con la mayoría de las reservas realizadas con poca anticipación y un grupo más reducido de casos con tiempos muy largos, incluso de más de 700 días, lo que sugiere la presencia de clientes que reservan con mucha antelación pero que son minoría frente al patrón general.\n"
   ]
  },
  {
   "cell_type": "code",
   "execution_count": 65,
   "id": "808bd3d1",
   "metadata": {},
   "outputs": [
    {
     "data": {
      "image/png": "[encoded data removed]",
      "text/plain": [
       "<Figure size 800x550 with 1 Axes>"
      ]
     },
     "metadata": {},
     "output_type": "display_data"
    }
   ],
   "source": [
    "# Distribución por tipo de hotel\n",
    "df[\"hotel\"].value_counts(normalize=True).plot(\n",
    "    kind=\"bar\", title=\"Distribución de reservas por tipo de hotel\"\n",
    ")\n",
    "plt.ylabel(\"Proporción\")\n",
    "plt.show()\n"
   ]
  },
  {
   "cell_type": "markdown",
   "id": "cb14989c",
   "metadata": {},
   "source": [
    "Se eligió un gráfico de barras porque es el más adecuado para representar la distribución de frecuencias en una variable categórica como el tipo de hotel. El resultado muestra que la mayoría de las reservas corresponden al Resort Hotel, mientras que el City Hotel concentra una proporción menor, lo que indica una mayor preferencia o volumen operativo en hoteles de tipo resort.\n"
   ]
  },
  {
   "cell_type": "code",
   "execution_count": 67,
   "id": "a533f9c4",
   "metadata": {},
   "outputs": [
    {
     "data": {
      "image/png": "[encoded data removed]",
      "text/plain": [
       "<Figure size 800x550 with 1 Axes>"
      ]
     },
     "metadata": {},
     "output_type": "display_data"
    }
   ],
   "source": [
    "# Distribución de ADR\n",
    "sns.boxplot(x=df[\"adr\"])\n",
    "plt.title(\"Distribución de tarifas promedio diarias (ADR)\")\n",
    "plt.xlabel(\"ADR\")\n",
    "plt.show()\n"
   ]
  },
  {
   "cell_type": "markdown",
   "id": "acc51bcc",
   "metadata": {},
   "source": [
    "Se eligió un diagrama de caja (boxplot) porque permite identificar la dispersión y los valores atípicos en una variable numérica continua como la tarifa diaria promedio. El resultado muestra que la mayoría de las tarifas se concentran entre aproximadamente 50 y 150 unidades monetarias, mientras que existen valores extremos que alcanzan más de 500, lo que refleja la presencia de outliers que deben considerarse en el análisis para no distorsionar la interpretación de las medias y tendencias generales.\n"
   ]
  },
  {
   "cell_type": "code",
   "execution_count": 68,
   "id": "a2a3c9f5",
   "metadata": {},
   "outputs": [
    {
     "data": {
      "image/png": "[encoded data removed]",
      "text/plain": [
       "<Figure size 800x550 with 1 Axes>"
      ]
     },
     "metadata": {},
     "output_type": "display_data"
    }
   ],
   "source": [
    "# Distribución de noches entre semana\n",
    "sns.histplot(df[\"stays_in_week_nights\"], bins=30, kde=False)\n",
    "plt.title(\"Distribución de noches entre semana\")\n",
    "plt.xlabel(\"Noches\")\n",
    "plt.ylabel(\"Frecuencia\")\n",
    "plt.show()\n"
   ]
  },
  {
   "cell_type": "markdown",
   "id": "43c4a9af",
   "metadata": {},
   "source": [
    "Se eligió un histograma porque es el gráfico más adecuado para visualizar la frecuencia de una variable numérica discreta como la cantidad de noches entre semana. El resultado muestra que la mayoría de las estancias duran entre una y cinco noches, con un número decreciente de casos a medida que aumenta la duración, y algunos valores poco frecuentes que llegan a superar las veinte noches, lo que evidencia que las estadías largas son excepcionales.\n"
   ]
  },
  {
   "cell_type": "markdown",
   "id": "f978e4d0",
   "metadata": {},
   "source": [
    "# Estrategia de Análisis"
   ]
  },
  {
   "cell_type": "markdown",
   "id": "62f71409",
   "metadata": {},
   "source": [
    "La estrategia de análisis comenzará con el cálculo de estadísticos descriptivos básicos, como medidas de tendencia central, dispersión y frecuencias, con el fin de obtener una visión inicial de los patrones generales en las reservas. Posteriormente, se realizará un análisis exploratorio de datos (EDA) tanto univariado como bivariado para identificar comportamientos de variables individuales y relaciones entre ellas. En este proceso se utilizarán histogramas, gráficos de barras, diagramas de caja y tablas de contingencia, lo que permitirá entender la distribución de los datos, detectar outliers y observar tendencias clave relacionadas con la cancelación de reservas y la duración de las estadías.\n",
    "\n",
    "Con el fin de dar respuesta al problema de reducir cancelaciones y mejorar la ocupación, se incluirán visualizaciones multivariadas que permitan relacionar la variable de cancelación (is_canceled) con factores como el tipo de hotel, el tiempo de anticipación de la reserva (lead_time), la tarifa promedio diaria (adr), los canales de distribución y el tipo de cliente. Además, se aplicarán pruebas estadísticas como Chi-cuadrado para analizar la dependencia entre cancelación y variables categóricas, así como ANOVA o t-test para comparar medias de lead_time y adr entre reservas canceladas y no canceladas. Estas técnicas se justifican porque permiten identificar patrones significativos y respaldar con evidencia las recomendaciones de negocio orientadas a ajustar políticas de depósito, estrategias de precios y segmentación de clientes para optimizar la ocupación hotelera. Tambien se realizaran analisis sobre las condidciones de reserva, es decir mes del ano, duracion, presencia o no de niños, presencia o no de vehiculos, y alguinos otros factores que influyan de gran manera en el numero de ocupacion.\n"
   ]
  },
  {
   "cell_type": "markdown",
   "id": "dc95d6c3",
   "metadata": {},
   "source": [
    "# Desarrollo de la Estrategia\n"
   ]
  },
  {
   "cell_type": "markdown",
   "id": "e3133e22",
   "metadata": {},
   "source": [
    "## EDA bivariado"
   ]
  },
  {
   "cell_type": "markdown",
   "id": "23de19dd",
   "metadata": {},
   "source": [
    "### **Tasa De Cancelación**"
   ]
  },
  {
   "cell_type": "code",
   "execution_count": 69,
   "id": "905a182b",
   "metadata": {},
   "outputs": [
    {
     "data": {
      "image/png": "[encoded data removed]",
      "text/plain": [
       "<Figure size 800x550 with 1 Axes>"
      ]
     },
     "metadata": {},
     "output_type": "display_data"
    },
    {
     "data": {
      "text/plain": [
       "hotel\n",
       "City Hotel      0.649967\n",
       "Resort Hotel    0.240354\n",
       "Name: is_canceled, dtype: float64"
      ]
     },
     "execution_count": 69,
     "metadata": {},
     "output_type": "execute_result"
    }
   ],
   "source": [
    "# Tasa de cancelación por tipo de hotel\n",
    "cancel_por_hotel = df.groupby(\"hotel\")[\"is_canceled\"].mean()\n",
    "\n",
    "ax = cancel_por_hotel.plot(kind=\"bar\", title=\"Tasa de cancelación por tipo de hotel\")\n",
    "ax.set_ylabel(\"Proporción de reservas canceladas\")\n",
    "plt.show()\n",
    "\n",
    "cancel_por_hotel\n"
   ]
  },
  {
   "cell_type": "markdown",
   "id": "70ff5725",
   "metadata": {},
   "source": [
    "Se eligió un gráfico de barras porque es la manera más adecuada de comparar tasas de cancelación entre categorías como el tipo de hotel. El resultado muestra que las cancelaciones son mucho más frecuentes en el City Hotel, con una tasa cercana al 65%, mientras que en el Resort Hotel solo alcanzan alrededor del 24%. Esto indica que el tipo de hotel es un factor relevante en el comportamiento de las cancelaciones, lo que sugiere que las estrategias de mitigación deben diferenciarse según la naturaleza del establecimiento.\n"
   ]
  },
  {
   "cell_type": "code",
   "execution_count": 70,
   "id": "8475f30c",
   "metadata": {},
   "outputs": [
    {
     "data": {
      "image/png": "[encoded data removed]",
      "text/plain": [
       "<Figure size 800x550 with 1 Axes>"
      ]
     },
     "metadata": {},
     "output_type": "display_data"
    },
    {
     "data": {
      "text/html": [
       "<div>\n",
       "<style scoped>\n",
       "    .dataframe tbody tr th:only-of-type {\n",
       "        vertical-align: middle;\n",
       "    }\n",
       "\n",
       "    .dataframe tbody tr th {\n",
       "        vertical-align: top;\n",
       "    }\n",
       "\n",
       "    .dataframe thead th {\n",
       "        text-align: right;\n",
       "    }\n",
       "</style>\n",
       "<table border=\"1\" class=\"dataframe\">\n",
       "  <thead>\n",
       "    <tr style=\"text-align: right;\">\n",
       "      <th></th>\n",
       "      <th>count</th>\n",
       "      <th>mean</th>\n",
       "      <th>std</th>\n",
       "      <th>min</th>\n",
       "      <th>25%</th>\n",
       "      <th>50%</th>\n",
       "      <th>75%</th>\n",
       "      <th>max</th>\n",
       "    </tr>\n",
       "    <tr>\n",
       "      <th>is_canceled</th>\n",
       "      <th></th>\n",
       "      <th></th>\n",
       "      <th></th>\n",
       "      <th></th>\n",
       "      <th></th>\n",
       "      <th></th>\n",
       "      <th></th>\n",
       "      <th></th>\n",
       "    </tr>\n",
       "  </thead>\n",
       "  <tbody>\n",
       "    <tr>\n",
       "      <th>0</th>\n",
       "      <td>29316.0</td>\n",
       "      <td>73.61376</td>\n",
       "      <td>87.603249</td>\n",
       "      <td>0.0</td>\n",
       "      <td>5.0</td>\n",
       "      <td>36.0</td>\n",
       "      <td>119.0</td>\n",
       "      <td>709.0</td>\n",
       "    </tr>\n",
       "    <tr>\n",
       "      <th>1</th>\n",
       "      <td>14980.0</td>\n",
       "      <td>103.05267</td>\n",
       "      <td>88.617061</td>\n",
       "      <td>0.0</td>\n",
       "      <td>32.0</td>\n",
       "      <td>79.0</td>\n",
       "      <td>154.0</td>\n",
       "      <td>605.0</td>\n",
       "    </tr>\n",
       "  </tbody>\n",
       "</table>\n",
       "</div>"
      ],
      "text/plain": [
       "               count       mean        std  min   25%   50%    75%    max\n",
       "is_canceled                                                              \n",
       "0            29316.0   73.61376  87.603249  0.0   5.0  36.0  119.0  709.0\n",
       "1            14980.0  103.05267  88.617061  0.0  32.0  79.0  154.0  605.0"
      ]
     },
     "execution_count": 70,
     "metadata": {},
     "output_type": "execute_result"
    }
   ],
   "source": [
    "# Boxplot de lead_time según si la reserva fue cancelada o no\n",
    "sns.boxplot(x=\"is_canceled\", y=\"lead_time\", data=df)\n",
    "plt.title(\"Lead Time según estado de cancelación\")\n",
    "plt.xlabel(\"0 = No Cancelada | 1 = Cancelada\")\n",
    "plt.ylabel(\"Lead Time (días)\")\n",
    "plt.show()\n",
    "\n",
    "df.groupby(\"is_canceled\")[\"lead_time\"].describe()\n"
   ]
  },
  {
   "cell_type": "markdown",
   "id": "b0846532",
   "metadata": {},
   "source": [
    "Se eligió un boxplot porque permite comparar la distribución de una variable numérica continua, como el lead_time, entre dos grupos definidos por la cancelación de la reserva. El resultado muestra que las reservas canceladas tienden a tener un lead_time mayor que las no canceladas: la mediana de anticipación en las canceladas es de 79 días frente a 36 días en las efectivas. Esto indica que las reservas hechas con mayor anticipación tienen una probabilidad más alta de cancelarse, posiblemente porque en periodos largos aumentan los imprevistos o cambios en los planes de los clientes.\n"
   ]
  },
  {
   "cell_type": "code",
   "execution_count": 71,
   "id": "21758504",
   "metadata": {},
   "outputs": [
    {
     "data": {
      "image/png": "[encoded data removed]",
      "text/plain": [
       "<Figure size 800x550 with 1 Axes>"
      ]
     },
     "metadata": {},
     "output_type": "display_data"
    },
    {
     "data": {
      "text/html": [
       "<div>\n",
       "<style scoped>\n",
       "    .dataframe tbody tr th:only-of-type {\n",
       "        vertical-align: middle;\n",
       "    }\n",
       "\n",
       "    .dataframe tbody tr th {\n",
       "        vertical-align: top;\n",
       "    }\n",
       "\n",
       "    .dataframe thead th {\n",
       "        text-align: right;\n",
       "    }\n",
       "</style>\n",
       "<table border=\"1\" class=\"dataframe\">\n",
       "  <thead>\n",
       "    <tr style=\"text-align: right;\">\n",
       "      <th></th>\n",
       "      <th>count</th>\n",
       "      <th>mean</th>\n",
       "      <th>std</th>\n",
       "      <th>min</th>\n",
       "      <th>25%</th>\n",
       "      <th>50%</th>\n",
       "      <th>75%</th>\n",
       "      <th>max</th>\n",
       "    </tr>\n",
       "    <tr>\n",
       "      <th>is_canceled</th>\n",
       "      <th></th>\n",
       "      <th></th>\n",
       "      <th></th>\n",
       "      <th></th>\n",
       "      <th></th>\n",
       "      <th></th>\n",
       "      <th></th>\n",
       "      <th></th>\n",
       "    </tr>\n",
       "  </thead>\n",
       "  <tbody>\n",
       "    <tr>\n",
       "      <th>0</th>\n",
       "      <td>29316.0</td>\n",
       "      <td>93.383967</td>\n",
       "      <td>57.268766</td>\n",
       "      <td>0.0</td>\n",
       "      <td>52.85</td>\n",
       "      <td>76.965</td>\n",
       "      <td>119.0</td>\n",
       "      <td>508.0</td>\n",
       "    </tr>\n",
       "    <tr>\n",
       "      <th>1</th>\n",
       "      <td>14980.0</td>\n",
       "      <td>115.569597</td>\n",
       "      <td>56.551059</td>\n",
       "      <td>0.0</td>\n",
       "      <td>75.21</td>\n",
       "      <td>106.200</td>\n",
       "      <td>145.0</td>\n",
       "      <td>450.0</td>\n",
       "    </tr>\n",
       "  </tbody>\n",
       "</table>\n",
       "</div>"
      ],
      "text/plain": [
       "               count        mean        std  min    25%      50%    75%    max\n",
       "is_canceled                                                                   \n",
       "0            29316.0   93.383967  57.268766  0.0  52.85   76.965  119.0  508.0\n",
       "1            14980.0  115.569597  56.551059  0.0  75.21  106.200  145.0  450.0"
      ]
     },
     "execution_count": 71,
     "metadata": {},
     "output_type": "execute_result"
    }
   ],
   "source": [
    "# Boxplot de ADR según estado de cancelación\n",
    "sns.boxplot(x=\"is_canceled\", y=\"adr\", data=df)\n",
    "plt.title(\"ADR según estado de cancelación\")\n",
    "plt.xlabel(\"0 = No Cancelada | 1 = Cancelada\")\n",
    "plt.ylabel(\"ADR (Tarifa diaria promedio)\")\n",
    "plt.show()\n",
    "\n",
    "# Valores estadísticos resumidos\n",
    "df.groupby(\"is_canceled\")[\"adr\"].describe()\n"
   ]
  },
  {
   "cell_type": "markdown",
   "id": "ae6e8296",
   "metadata": {},
   "source": [
    "Se eligió un boxplot porque facilita la comparación de la dispersión y los valores centrales de una variable numérica como el ADR entre reservas canceladas y no canceladas. El resultado muestra que las reservas canceladas presentan en promedio tarifas más altas, con una mediana de 106 frente a 77 en las no canceladas, y una media de 115 frente a 93. Esto sugiere que los precios más elevados están asociados con una mayor probabilidad de cancelación, lo que puede deberse a la sensibilidad de los clientes al costo o a que las tarifas altas generan más indecisión y cambios en los planes.\n"
   ]
  },
  {
   "cell_type": "code",
   "execution_count": 72,
   "id": "e6aa7d0c",
   "metadata": {},
   "outputs": [
    {
     "data": {
      "image/png": "[encoded data removed]",
      "text/plain": [
       "<Figure size 800x550 with 1 Axes>"
      ]
     },
     "metadata": {},
     "output_type": "display_data"
    },
    {
     "data": {
      "text/plain": [
       "distribution_channel\n",
       "GDS          0.909091\n",
       "Undefined    0.800000\n",
       "TA/TO        0.387099\n",
       "Corporate    0.178517\n",
       "Direct       0.175049\n",
       "Name: is_canceled, dtype: float64"
      ]
     },
     "execution_count": 72,
     "metadata": {},
     "output_type": "execute_result"
    }
   ],
   "source": [
    "# Tasa de cancelación por canal de distribución\n",
    "cancel_por_canal = df.groupby(\"distribution_channel\")[\"is_canceled\"].mean().sort_values(ascending=False)\n",
    "\n",
    "ax = cancel_por_canal.plot(kind=\"bar\", title=\"Tasa de cancelación por canal de distribución\")\n",
    "ax.set_ylabel(\"Proporción de reservas canceladas\")\n",
    "plt.show()\n",
    "\n",
    "cancel_por_canal\n"
   ]
  },
  {
   "cell_type": "markdown",
   "id": "dd549237",
   "metadata": {},
   "source": [
    "Se eligió un gráfico de barras porque permite comparar de manera clara las tasas de cancelación entre categorías nominales como los canales de distribución. El resultado muestra diferencias marcadas: los canales GDS y Undefined presentan tasas extremadamente altas de cancelación, superiores al 80%, mientras que TA/TO se sitúa cerca del 39% y los canales Corporate y Direct muestran tasas mucho más bajas, alrededor del 18%. Esto evidencia que la forma en que se gestiona la reserva influye directamente en la probabilidad de cancelación, lo que sugiere que las estrategias de control deben priorizar la supervisión y gestión de los canales con mayor riesgo.\n"
   ]
  },
  {
   "cell_type": "code",
   "execution_count": 73,
   "id": "dc1a2397",
   "metadata": {},
   "outputs": [
    {
     "data": {
      "image/png": "[encoded data removed]",
      "text/plain": [
       "<Figure size 800x550 with 1 Axes>"
      ]
     },
     "metadata": {},
     "output_type": "display_data"
    },
    {
     "data": {
      "text/plain": [
       "customer_type\n",
       "Transient          0.379369\n",
       "Transient-Party    0.202635\n",
       "Contract           0.130529\n",
       "Group              0.084507\n",
       "Name: is_canceled, dtype: float64"
      ]
     },
     "execution_count": 73,
     "metadata": {},
     "output_type": "execute_result"
    }
   ],
   "source": [
    "# Tasa de cancelación por tipo de cliente\n",
    "cancel_por_cliente = df.groupby(\"customer_type\")[\"is_canceled\"].mean().sort_values(ascending=False)\n",
    "\n",
    "ax = cancel_por_cliente.plot(kind=\"bar\", title=\"Tasa de cancelación por tipo de cliente\")\n",
    "ax.set_ylabel(\"Proporción de reservas canceladas\")\n",
    "plt.show()\n",
    "\n",
    "cancel_por_cliente\n"
   ]
  },
  {
   "cell_type": "markdown",
   "id": "4ac805c0",
   "metadata": {},
   "source": [
    "Se eligió un gráfico de barras porque permite comparar la tasa de cancelación entre categorías nominales como los tipos de cliente. El resultado evidencia que los clientes Transient, que representan reservas individuales no asociadas a contratos ni grupos, presentan la mayor proporción de cancelaciones (cerca del 38%), seguidos por los Transient-Party (20%). En contraste, los clientes Contract y Group muestran tasas considerablemente más bajas, del 13% y 8% respectivamente. Esto indica que las reservas individuales son mucho más volátiles y propensas a cancelarse, mientras que aquellas ligadas a contratos o grupos son más estables, lo que sugiere que la cadena hotelera podría reforzar su estrategia de captación y fidelización en los segmentos Transient para reducir el impacto de las cancelaciones.\n",
    "\n"
   ]
  },
  {
   "cell_type": "code",
   "execution_count": null,
   "id": "afc9349d",
   "metadata": {},
   "outputs": [],
   "source": [
    "# Promedio de cancelación y ocupación según si viajan con hijos o no\n",
    "df[\"con_hijos\"] = df[\"total_kids\"] > 0\n",
    "df.groupby(\"con_hijos\")[\"is_canceled\"].mean(), df.groupby(\"con_hijos\")[\"is_canceled\"].count()\n"
   ]
  },
  {
   "cell_type": "markdown",
   "id": "f2baf1f5",
   "metadata": {},
   "source": [
    "### Conclusión inicial a partir de EDA bivariado:\n",
    "\n",
    "El análisis bivariado mostró que las cancelaciones son más frecuentes en el City Hotel, en reservas con mayor lead_time, en aquellas con tarifas promedio más altas, en canales de distribución como GDS y Undefined, y en clientes Transient. En contraste, el Resort Hotel, las reservas con menor anticipación o costo, los canales Direct y Corporate, y los clientes Group o Contract presentan tasas mucho más bajas, lo que sugiere perfiles de mayor estabilidad y menor riesgo de cancelación.\n"
   ]
  },
  {
   "cell_type": "markdown",
   "id": "60d26c5d",
   "metadata": {},
   "source": [
    "### **Ocupación y Demanda**"
   ]
  },
  {
   "cell_type": "code",
   "execution_count": 77,
   "id": "f2ebcf37",
   "metadata": {},
   "outputs": [
    {
     "data": {
      "image/png": "[encoded data removed]",
      "text/plain": [
       "<Figure size 1200x500 with 2 Axes>"
      ]
     },
     "metadata": {},
     "output_type": "display_data"
    },
    {
     "data": {
      "text/html": [
       "<div>\n",
       "<style scoped>\n",
       "    .dataframe tbody tr th:only-of-type {\n",
       "        vertical-align: middle;\n",
       "    }\n",
       "\n",
       "    .dataframe tbody tr th {\n",
       "        vertical-align: top;\n",
       "    }\n",
       "\n",
       "    .dataframe thead th {\n",
       "        text-align: right;\n",
       "    }\n",
       "</style>\n",
       "<table border=\"1\" class=\"dataframe\">\n",
       "  <thead>\n",
       "    <tr style=\"text-align: right;\">\n",
       "      <th></th>\n",
       "      <th>stays_in_week_nights</th>\n",
       "      <th>stays_in_weekend_nights</th>\n",
       "    </tr>\n",
       "    <tr>\n",
       "      <th>hotel</th>\n",
       "      <th></th>\n",
       "      <th></th>\n",
       "    </tr>\n",
       "  </thead>\n",
       "  <tbody>\n",
       "    <tr>\n",
       "      <th>City Hotel</th>\n",
       "      <td>2.405520</td>\n",
       "      <td>0.897533</td>\n",
       "    </tr>\n",
       "    <tr>\n",
       "      <th>Resort Hotel</th>\n",
       "      <td>3.194917</td>\n",
       "      <td>1.220808</td>\n",
       "    </tr>\n",
       "  </tbody>\n",
       "</table>\n",
       "</div>"
      ],
      "text/plain": [
       "              stays_in_week_nights  stays_in_weekend_nights\n",
       "hotel                                                      \n",
       "City Hotel                2.405520                 0.897533\n",
       "Resort Hotel              3.194917                 1.220808"
      ]
     },
     "execution_count": 77,
     "metadata": {},
     "output_type": "execute_result"
    }
   ],
   "source": [
    "# Distribución de noches entre semana y fines de semana\n",
    "fig, axes = plt.subplots(1, 2, figsize=(12,5))\n",
    "\n",
    "sns.histplot(df[\"stays_in_week_nights\"], bins=30, kde=False, ax=axes[0])\n",
    "axes[0].set_title(\"Distribución de noches entre semana\")\n",
    "axes[0].set_xlabel(\"Noches entre semana\")\n",
    "\n",
    "sns.histplot(df[\"stays_in_weekend_nights\"], bins=15, kde=False, ax=axes[1])\n",
    "axes[1].set_title(\"Distribución de noches en fines de semana\")\n",
    "axes[1].set_xlabel(\"Noches en fin de semana\")\n",
    "\n",
    "plt.tight_layout()\n",
    "plt.show()\n",
    "\n",
    "# Promedio de estadías por tipo de hotel\n",
    "df.groupby(\"hotel\")[[\"stays_in_week_nights\",\"stays_in_weekend_nights\"]].mean()\n"
   ]
  },
  {
   "cell_type": "markdown",
   "id": "f55009a7",
   "metadata": {},
   "source": [
    "El análisis de la duración promedio de las estadías muestra que los huéspedes del Resort Hotel permanecen más noches tanto entre semana como en fines de semana en comparación con los del City Hotel. Esto resulta coherente con la naturaleza de los periodos vacacionales y el mayor tiempo libre asociado al turismo de ocio, que caracteriza a los resorts. En contraste, el City Hotel registra estadías más cortas, lo que sugiere que además del turismo capta un mercado laboral y de negocios, donde los viajes suelen ser de menor duración y más frecuentes en días de semana.\n"
   ]
  },
  {
   "cell_type": "code",
   "execution_count": 78,
   "id": "9e19e200",
   "metadata": {},
   "outputs": [
    {
     "data": {
      "image/png": "[encoded data removed]",
      "text/plain": [
       "<Figure size 1000x500 with 1 Axes>"
      ]
     },
     "metadata": {},
     "output_type": "display_data"
    },
    {
     "data": {
      "text/plain": [
       "arrival_date_month\n",
       "January      1931\n",
       "February     2178\n",
       "March        2385\n",
       "April        2337\n",
       "May          2400\n",
       "June         1947\n",
       "July         3168\n",
       "August       3894\n",
       "September    2785\n",
       "October      2559\n",
       "November     1860\n",
       "December     1872\n",
       "Name: count, dtype: int64"
      ]
     },
     "execution_count": 78,
     "metadata": {},
     "output_type": "execute_result"
    }
   ],
   "source": [
    "# Ocupación por mes (conteo de reservas efectivas)\n",
    "ocupacion_mes = df[df[\"is_canceled\"] == 0][\"arrival_date_month\"].value_counts().reindex([\n",
    "    \"January\",\"February\",\"March\",\"April\",\"May\",\"June\",\n",
    "    \"July\",\"August\",\"September\",\"October\",\"November\",\"December\"\n",
    "])\n",
    "\n",
    "ocupacion_mes.plot(kind=\"bar\", figsize=(10,5), title=\"Reservas efectivas por mes\")\n",
    "plt.ylabel(\"Número de reservas efectivas\")\n",
    "plt.show()\n",
    "\n",
    "ocupacion_mes\n"
   ]
  },
  {
   "cell_type": "markdown",
   "id": "5610e40f",
   "metadata": {},
   "source": [
    "El análisis de la ocupación por mes muestra un claro pico en julio y agosto, lo cual es consistente con los periodos de vacaciones de verano en muchos países, cuando los clientes disponen de más tiempo libre para viajar. En contraste, meses como enero, noviembre y diciembre presentan niveles más bajos de reservas efectivas, lo que sugiere temporadas de menor demanda. Este comportamiento estacional indica que la cadena hotelera podría aprovechar los meses de alta ocupación para mantener tarifas competitivas y, al mismo tiempo, diseñar descuentos o paquetes promocionales en las temporadas bajas con el fin de incentivar la demanda y mejorar la ocupación a lo largo del año.\n"
   ]
  },
  {
   "cell_type": "code",
   "execution_count": 79,
   "id": "99704867",
   "metadata": {},
   "outputs": [
    {
     "data": {
      "text/plain": [
       "(con_hijos\n",
       " False    0.32628\n",
       " True     0.43534\n",
       " Name: is_canceled, dtype: float64,\n",
       " con_hijos\n",
       " False    39463\n",
       " True      4833\n",
       " Name: is_canceled, dtype: int64)"
      ]
     },
     "execution_count": 79,
     "metadata": {},
     "output_type": "execute_result"
    }
   ],
   "source": [
    "# Promedio de cancelación y ocupación según si viajan con hijos o no\n",
    "df[\"con_hijos\"] = df[\"total_kids\"] > 0\n",
    "df.groupby(\"con_hijos\")[\"is_canceled\"].mean(), df.groupby(\"con_hijos\")[\"is_canceled\"].count()\n"
   ]
  },
  {
   "cell_type": "markdown",
   "id": "e8a0b22c",
   "metadata": {},
   "source": [
    "El análisis muestra que las familias que viajan con hijos presentan una tasa de cancelación más alta (43.5%) en comparación con quienes no los tienen (32.6%). Además, aunque el volumen de reservas familiares es mucho menor frente a las realizadas por adultos sin hijos, este segmento resulta más inestable en términos de confirmación. Esto sugiere que las reservas familiares requieren una estrategia diferenciada, como políticas de mayor flexibilidad o paquetes atractivos para familias, que contribuyan a reducir su propensión a cancelar y a fortalecer su aporte a la ocupación del hotel.\n"
   ]
  },
  {
   "cell_type": "code",
   "execution_count": 80,
   "id": "5ba7df81",
   "metadata": {},
   "outputs": [
    {
     "data": {
      "text/plain": [
       "required_car_parking_spaces\n",
       "0.0    0.386013\n",
       "1.0    0.000000\n",
       "2.0    0.000000\n",
       "3.0    0.000000\n",
       "8.0    0.000000\n",
       "Name: is_canceled, dtype: float64"
      ]
     },
     "execution_count": 80,
     "metadata": {},
     "output_type": "execute_result"
    }
   ],
   "source": [
    "# Cancelación y ocupación según necesidad de parqueadero\n",
    "df.groupby(\"required_car_parking_spaces\")[\"is_canceled\"].mean()\n"
   ]
  },
  {
   "cell_type": "markdown",
   "id": "d4f09ea0",
   "metadata": {},
   "source": [
    "El análisis de la variable relacionada con la necesidad de espacios de parqueadero muestra que prácticamente todos los clientes que solicitaron parqueadero mantuvieron sus reservas, mientras que las cancelaciones se concentraron en quienes no lo requerían. En otras palabras, los huéspedes que viajan en carro resultan ser más estables y confiables para la ocupación del hotel, lo que sugiere que podrían ser un segmento prioritario para incentivar con beneficios adicionales como descuentos en estacionamiento o paquetes especiales, reforzando así la fidelización de este perfil de cliente.\n"
   ]
  },
  {
   "cell_type": "markdown",
   "id": "89b48a0f",
   "metadata": {},
   "source": [
    "# **Bloque de analisis y pruebas estadísticas**"
   ]
  },
  {
   "cell_type": "markdown",
   "id": "e83a9d80",
   "metadata": {},
   "source": [
    "### **Chi-cuadrado para variables categóricas**\n",
    "\n",
    "\n",
    "Antes de aplicar la prueba Chi-cuadrado, es importante señalar que esta técnica es la más adecuada en este contexto porque permite evaluar si existe una dependencia significativa entre dos variables categóricas, en este caso la cancelación de la reserva y atributos como el tipo de hotel, el canal de distribución o el tipo de cliente. Dado que estas variables representan categorías y no valores numéricos continuos, la prueba Chi² es correcta para determinar si las diferencias observadas en las tasas de cancelación entre categorías son estadísticamente relevantes o si podrían deberse al azar. Se espera que, en caso de existir patrones reales de comportamiento, los resultados muestren p-values muy bajos, indicando una relación significativa.\n"
   ]
  },
  {
   "cell_type": "code",
   "execution_count": 74,
   "id": "a459cbfb",
   "metadata": {},
   "outputs": [
    {
     "name": "stdout",
     "output_type": "stream",
     "text": [
      "{'Variable': 'hotel', 'Chi2': np.float64(6034.733941890481), 'p-value': np.float64(0.0)}\n",
      "{'Variable': 'distribution_channel', 'Chi2': np.float64(1595.4466288014441), 'p-value': np.float64(0.0)}\n",
      "{'Variable': 'customer_type', 'Chi2': np.float64(1334.030268836728), 'p-value': np.float64(6.079332049417131e-289)}\n"
     ]
    }
   ],
   "source": [
    "from scipy.stats import chi2_contingency\n",
    "\n",
    "# Función para chi-cuadrado\n",
    "def prueba_chi2(col):\n",
    "    tabla = pd.crosstab(df[col], df[\"is_canceled\"])\n",
    "    chi2, p, dof, expected = chi2_contingency(tabla)\n",
    "    return {\"Variable\": col, \"Chi2\": chi2, \"p-value\": p}\n",
    "\n",
    "# Pruebas para categóricas clave\n",
    "for col in [\"hotel\", \"distribution_channel\", \"customer_type\"]:\n",
    "    print(prueba_chi2(col))\n"
   ]
  },
  {
   "cell_type": "markdown",
   "id": "c7909196",
   "metadata": {},
   "source": [
    "Las pruebas Chi-cuadrado confirmaron que las variables categóricas hotel, distribution_channel y customer_type tienen una relación estadísticamente significativa con la cancelación de reservas, con p-values prácticamente nulos. Esto valida los hallazgos del análisis exploratorio, en donde observamos que el City Hotel presenta más cancelaciones que el Resort Hotel, que ciertos canales como GDS concentran tasas más altas y que los clientes Transient son más propensos a cancelar. En consecuencia, estas variables son factores clave a considerar en el diseño de estrategias para reducir cancelaciones.\n"
   ]
  },
  {
   "cell_type": "markdown",
   "id": "87bbf8c9",
   "metadata": {},
   "source": [
    "### **t-test para lead_time (numerica continua)**\n",
    "\n",
    "Para analizar variables numéricas continuas como el lead_time o el adr en relación con la cancelación, se utiliza la prueba t-test de muestras independientes, que permite comparar si las medias de dos grupos (reservas canceladas y no canceladas) son significativamente diferentes. Esta técnica es adecuada en este contexto porque la variable de cancelación divide a los datos en dos categorías, y el interés está en verificar si la anticipación de la reserva o la tarifa promedio difieren de forma sistemática entre ambos grupos más allá de la variabilidad natural de los datos.\n"
   ]
  },
  {
   "cell_type": "code",
   "execution_count": 75,
   "id": "3734bfc1",
   "metadata": {},
   "outputs": [
    {
     "name": "stdout",
     "output_type": "stream",
     "text": [
      "t-test Lead Time -> t: 33.20530540698623 p-value: 1.8910333035755933e-237\n"
     ]
    }
   ],
   "source": [
    "from scipy.stats import ttest_ind\n",
    "\n",
    "# Separar grupos\n",
    "lead_time_cancel = df[df[\"is_canceled\"] == 1][\"lead_time\"]\n",
    "lead_time_no_cancel = df[df[\"is_canceled\"] == 0][\"lead_time\"]\n",
    "\n",
    "# Prueba t-test\n",
    "t_stat, p_val = ttest_ind(lead_time_cancel, lead_time_no_cancel, equal_var=False)\n",
    "print(\"t-test Lead Time -> t:\", t_stat, \"p-value:\", p_val)\n"
   ]
  },
  {
   "cell_type": "markdown",
   "id": "c15794b7",
   "metadata": {},
   "source": [
    "El t-test aplicado a lead_time arrojó un estadístico t = 33.2 con un p-value prácticamente nulo (≈ 1.89e-237), lo que indica que la diferencia de medias entre reservas canceladas y no canceladas es altamente significativa. En la práctica, esto confirma que las reservas canceladas tienen un tiempo de anticipación mucho mayor que las reservas que se mantienen efectivas, validando el patrón observado en el análisis exploratorio: a mayor lead_time, mayor probabilidad de cancelación.\n"
   ]
  },
  {
   "cell_type": "markdown",
   "id": "002c6ae4",
   "metadata": {},
   "source": [
    "### **t-test para ADR (numerica continua)**\n",
    "\n",
    "La prueba t-test de muestras independientes es adecuada para analizar la variable adr porque permite comparar si la media de la tarifa diaria promedio difiere significativamente entre dos grupos definidos por la cancelación de la reserva. En este caso, la variable de cancelación divide los datos en dos categorías (reservas canceladas y no canceladas), lo que convierte al t-test en la herramienta correcta para determinar si las diferencias observadas en el precio promedio entre ambos grupos son producto del azar o reflejan un patrón estadísticamente significativo.\n"
   ]
  },
  {
   "cell_type": "code",
   "execution_count": 76,
   "id": "6ba30334",
   "metadata": {},
   "outputs": [
    {
     "name": "stdout",
     "output_type": "stream",
     "text": [
      "t-test ADR -> t: 38.89459988616629 p-value: 0.0\n"
     ]
    }
   ],
   "source": [
    "# Separar grupos\n",
    "adr_cancel = df[df[\"is_canceled\"] == 1][\"adr\"]\n",
    "adr_no_cancel = df[df[\"is_canceled\"] == 0][\"adr\"]\n",
    "\n",
    "# Prueba t-test\n",
    "t_stat, p_val = ttest_ind(adr_cancel, adr_no_cancel, equal_var=False)\n",
    "print(\"t-test ADR -> t:\", t_stat, \"p-value:\", p_val)\n"
   ]
  },
  {
   "cell_type": "markdown",
   "id": "4b1701d1",
   "metadata": {},
   "source": [
    "El t-test aplicado al ADR arrojó un estadístico t = 38.9 con un p-value prácticamente nulo, lo que confirma que la diferencia de medias entre reservas canceladas y no canceladas es estadísticamente significativa. Esto significa que las tarifas promedio diarias son más altas en las reservas que terminan siendo canceladas en comparación con aquellas que se mantienen efectivas. En consecuencia, el precio aparece como un factor determinante en la cancelación de reservas, lo que respalda la necesidad de diseñar políticas de precios o depósitos diferenciados para clientes más sensibles a las tarifas elevadas.\n"
   ]
  },
  {
   "cell_type": "markdown",
   "id": "13d2132c",
   "metadata": {},
   "source": [
    "### **Duración de estadía (entre semana y fin de semana)**"
   ]
  },
  {
   "cell_type": "markdown",
   "id": "8cdc3b37",
   "metadata": {},
   "source": [
    "Para evaluar si la duración de la estadía difiere entre reservas canceladas y no canceladas se aplicó la prueba t-test de muestras independientes, ya que permite comparar la media de variables numéricas continuas como las noches entre semana y las noches en fin de semana entre dos grupos definidos por la cancelación. Esta prueba es adecuada en este contexto porque ayuda a determinar si las diferencias observadas en la duración de la estadía son estadísticamente significativas o si podrían deberse al azar.\n"
   ]
  },
  {
   "cell_type": "code",
   "execution_count": 81,
   "id": "93e9c99a",
   "metadata": {},
   "outputs": [
    {
     "name": "stdout",
     "output_type": "stream",
     "text": [
      "t-test noches entre semana -> t: 4.564951655984195 p: 5.015448321056421e-06\n",
      "t-test noches fin de semana -> t: 5.439880255750299 p: 5.3728200329651526e-08\n"
     ]
    }
   ],
   "source": [
    "from scipy.stats import ttest_ind\n",
    "\n",
    "t_stat, p_val = ttest_ind(\n",
    "    df[df[\"is_canceled\"]==1][\"stays_in_week_nights\"],\n",
    "    df[df[\"is_canceled\"]==0][\"stays_in_week_nights\"],\n",
    "    equal_var=False\n",
    ")\n",
    "print(\"t-test noches entre semana -> t:\", t_stat, \"p:\", p_val)\n",
    "\n",
    "t_stat, p_val = ttest_ind(\n",
    "    df[df[\"is_canceled\"]==1][\"stays_in_weekend_nights\"],\n",
    "    df[df[\"is_canceled\"]==0][\"stays_in_weekend_nights\"],\n",
    "    equal_var=False\n",
    ")\n",
    "print(\"t-test noches fin de semana -> t:\", t_stat, \"p:\", p_val)\n"
   ]
  },
  {
   "cell_type": "markdown",
   "id": "2b981ac4",
   "metadata": {},
   "source": [
    "Los resultados muestran que tanto en las noches entre semana (t = 4.56, p ≈ 5e-06) como en las noches de fin de semana (t = 5.44, p ≈ 5e-08) las diferencias en la duración de la estadía entre reservas canceladas y efectivas son estadísticamente significativas. En la práctica, esto significa que las reservas que terminan cancelándose tienden a tener una duración de estadía distinta (generalmente mayor) en comparación con las que se concretan, lo que refuerza la idea de que los clientes con planes de estancia más largos presentan un mayor riesgo de cancelar sus reservas.\n"
   ]
  },
  {
   "cell_type": "markdown",
   "id": "cae64fb3",
   "metadata": {},
   "source": [
    "### **Estacionalidad (mes de llegada vs cancelación)**"
   ]
  },
  {
   "cell_type": "markdown",
   "id": "74ee959f",
   "metadata": {},
   "source": [
    "Para analizar si la probabilidad de cancelación varía según el mes de llegada se utilizó la prueba Chi-cuadrado de independencia, que es apropiada para estudiar la relación entre dos variables categóricas. En este caso, tanto el mes de llegada como el estado de cancelación son variables cualitativas, por lo que la prueba permite determinar si las diferencias observadas en las tasas de cancelación a lo largo del año son estadísticamente significativas o si podrían explicarse por el azar.\n"
   ]
  },
  {
   "cell_type": "code",
   "execution_count": 82,
   "id": "91c4bc10",
   "metadata": {},
   "outputs": [
    {
     "name": "stdout",
     "output_type": "stream",
     "text": [
      "Chi² mes vs cancelación -> 1192.8495383141312 p-value: 5.629129463743612e-249\n"
     ]
    }
   ],
   "source": [
    "tabla_mes = pd.crosstab(df[\"arrival_date_month\"], df[\"is_canceled\"])\n",
    "chi2, p, dof, expected = chi2_contingency(tabla_mes)\n",
    "print(\"Chi² mes vs cancelación ->\", chi2, \"p-value:\", p)\n"
   ]
  },
  {
   "cell_type": "markdown",
   "id": "59fcd11b",
   "metadata": {},
   "source": [
    "El resultado de la prueba arrojó un estadístico Chi² = 1192.85 con un p-value prácticamente nulo (≈ 5.6e-249), lo que confirma que la relación entre el mes de llegada y la cancelación de la reserva es altamente significativa. En términos prácticos, esto significa que la probabilidad de que una reserva sea cancelada depende fuertemente de la estacionalidad, lo cual es coherente con los patrones vacacionales y de demanda turística: durante los meses de mayor volumen de viajes la ocupación es más estable, mientras que en temporadas bajas la propensión a cancelar se incrementa.\n"
   ]
  },
  {
   "cell_type": "markdown",
   "id": "c11a893e",
   "metadata": {},
   "source": [
    "# **Extracción de Insights**\n",
    "\n",
    "Del análisis realizado se extraen varios insights clave sobre el comportamiento de las cancelaciones y la ocupación hotelera. En primer lugar, se observó que el City Hotel presenta una tasa de cancelación significativamente más alta (65%) frente al Resort Hotel (24%), lo que sugiere que el tipo de establecimiento influye directamente en la estabilidad de las reservas. Asimismo, las reservas con mayor anticipación (lead_time) mostraron una clara tendencia a cancelarse, confirmada por la prueba t-test, lo que indica que a mayor tiempo entre la reserva y la llegada aumenta el riesgo de cancelación. También se encontró que las reservas con tarifas promedio diarias (ADR) más altas presentan mayor probabilidad de ser canceladas, lo que refleja la sensibilidad de los clientes al precio y el impacto del costo en la decisión final. En cuanto a los canales de distribución, se identificó que GDS y Undefined concentran las tasas de cancelación más elevadas, superiores al 80%, mientras que los canales Direct y Corporate muestran mayor estabilidad, con tasas mucho más bajas. Finalmente, el tipo de cliente también es un factor determinante: los clientes Transient concentran la mayoría de las cancelaciones (38%), mientras que los clientes asociados a contratos o grupos presentan tasas considerablemente más bajas, lo que sugiere que estos segmentos son más confiables y generan ocupación más estable.  \n",
    "\n",
    "En cuanto a la ocupación, se encontró que el Resort Hotel concentra estadías más largas, tanto entre semana como en fines de semana, lo que es coherente con su orientación a periodos vacacionales, mientras que el City Hotel muestra estadías más cortas asociadas a un mercado laboral o de negocios. Además, el análisis mensual reflejó un fuerte componente estacional: los meses de verano, como julio y agosto, concentran mayor volumen de reservas efectivas, mientras que enero y noviembre presentan menor demanda, lo que sugiere que ofrecer descuentos o paquetes especiales en temporada baja podría ayudar a incentivar la ocupación. Respecto a los perfiles de clientes, se observó que quienes viajan con hijos cancelan más que aquellos que no lo hacen, lo que indica la necesidad de diseñar políticas específicas para familias, mientras que los huéspedes que requieren parqueadero mostraron una mayor estabilidad en sus reservas, lo que los convierte en un segmento atractivo para fidelizar mediante beneficios adicionales. Estos hallazgos complementan la visión sobre cancelaciones y aportan elementos clave para diseñar estrategias que optimicen tanto la estabilidad de la demanda como la ocupación hotelera.\n",
    "\n"
   ]
  },
  {
   "cell_type": "markdown",
   "id": "15cc6990",
   "metadata": {},
   "source": [
    "# **Genración de Resultados**\n",
    "\n",
    "\n",
    "Para la exposición de resultados y su respectiva sustentacion se adjunta un infrome en formato pdf dentro del repositorio donde se entregara el notebook y todo lo relacionado."
   ]
  }
 ],
 "metadata": {
  "kernelspec": {
   "display_name": "Python 3",
   "language": "python",
   "name": "python3"
  },
  "language_info": {
   "codemirror_mode": {
    "name": "ipython",
    "version": 3
   },
   "file_extension": ".py",
   "mimetype": "text/x-python",
   "name": "python",
   "nbconvert_exporter": "python",
   "pygments_lexer": "ipython3",
   "version": "3.11.9"
  }
 },
 "nbformat": 4,
 "nbformat_minor": 5
}
